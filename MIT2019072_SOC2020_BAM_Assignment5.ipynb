{
  "nbformat": 4,
  "nbformat_minor": 0,
  "metadata": {
    "colab": {
      "name": "MIT2019072_SOC2020_BAM_Assignment5.ipynb",
      "provenance": [],
      "authorship_tag": "ABX9TyNSO34GRn876Va93dxoH9Du",
      "include_colab_link": true
    },
    "kernelspec": {
      "name": "python3",
      "display_name": "Python 3"
    }
  },
  "cells": [
    {
      "cell_type": "markdown",
      "metadata": {
        "id": "view-in-github",
        "colab_type": "text"
      },
      "source": [
        "<a href=\"https://colab.research.google.com/github/Afzal786/Soft_Computing/blob/master/MIT2019072_SOC2020_BAM_Assignment5.ipynb\" target=\"_parent\"><img src=\"https://colab.research.google.com/assets/colab-badge.svg\" alt=\"Open In Colab\"/></a>"
      ]
    },
    {
      "cell_type": "code",
      "metadata": {
        "id": "JvgxOegLlGwd",
        "colab_type": "code",
        "outputId": "19eca1e2-41c6-4c34-a1b1-be312e5e76b7",
        "colab": {
          "base_uri": "https://localhost:8080/",
          "height": 153
        }
      },
      "source": [
        "import numpy as np\n",
        "\n",
        "#Input matrix 4 X 6\n",
        "X = np.array([1,1,1,1,1,1,-1,-1,-1,-1,-1,-1,1,-1,-1,1,1,1,1,1,-1,-1,-1,-1]).reshape(4,6)\n",
        "\n",
        "#Output matrix of 4 X 3\n",
        "Y = np.array([1,1,1,-1,-1,-1,-1,1,1,1,-1,1]).reshape(4,3)\n",
        "\n",
        "print(X)\n",
        "print(Y)"
      ],
      "execution_count": 2,
      "outputs": [
        {
          "output_type": "stream",
          "text": [
            "[[ 1  1  1  1  1  1]\n",
            " [-1 -1 -1 -1 -1 -1]\n",
            " [ 1 -1 -1  1  1  1]\n",
            " [ 1  1 -1 -1 -1 -1]]\n",
            "[[ 1  1  1]\n",
            " [-1 -1 -1]\n",
            " [-1  1  1]\n",
            " [ 1 -1  1]]\n"
          ],
          "name": "stdout"
        }
      ]
    },
    {
      "cell_type": "code",
      "metadata": {
        "id": "dXKwCpnSr6ru",
        "colab_type": "code",
        "outputId": "7c1f1546-b4ee-4ca6-adba-9d05597c3b1f",
        "colab": {
          "base_uri": "https://localhost:8080/",
          "height": 119
        }
      },
      "source": [
        "#Number of features in input array\n",
        "m = len(X[0])\n",
        "\n",
        "#Number of features in output array\n",
        "n = len(Y[0])\n",
        "\n",
        "#Defining the Weight matrix\n",
        "W = np.zeros(m*n).reshape(m,n)\n",
        "\n",
        "#Runing the loop on the dataset in order to calculate the weight matrix\n",
        "for i in range(X.shape[0]):\n",
        "  x = X[i].reshape(1,m)\n",
        "  y = Y[i].reshape(1,n)\n",
        "  W = W + x.T@y\n",
        "\n",
        "print(W)"
      ],
      "execution_count": 3,
      "outputs": [
        {
          "output_type": "stream",
          "text": [
            "[[2. 2. 4.]\n",
            " [4. 0. 2.]\n",
            " [2. 2. 0.]\n",
            " [0. 4. 2.]\n",
            " [0. 4. 2.]\n",
            " [0. 4. 2.]]\n"
          ],
          "name": "stdout"
        }
      ]
    },
    {
      "cell_type": "code",
      "metadata": {
        "id": "4IfhHmtk6FkL",
        "colab_type": "code",
        "colab": {}
      },
      "source": [
        "#Threshold fucntion for the Bi-polar data-set  \n",
        "def threshold(y):\n",
        "  for i in range(y.shape[0]):\n",
        "    for j in range(y.shape[1]):\n",
        "      if (y[i][j] > 0):\n",
        "        y[i][j] = 1\n",
        "      elif (y[i][j] <= 0):\n",
        "        y[i][j] = -1\n",
        "  return y\n"
      ],
      "execution_count": 0,
      "outputs": []
    },
    {
      "cell_type": "code",
      "metadata": {
        "id": "EXv5YgF8xOEg",
        "colab_type": "code",
        "outputId": "333beefa-3782-4248-8e35-cf9e172d11e9",
        "colab": {
          "base_uri": "https://localhost:8080/",
          "height": 51
        }
      },
      "source": [
        "#Testing in forward direction means X----->Y\n",
        "\n",
        "X_test =np.array([1,-1,-1,1,1,1]).reshape(1,6)\n",
        "Y_test = np.array([-1,1,1]).reshape(1,3)\n",
        "\n",
        "Y_out = X_test@W\n",
        "\n",
        "Y_out = threshold(Y_out)\n",
        "\n",
        "print(Y_out)\n",
        "print(\"Mis-matched : {}/{}\".format(int(np.sum(abs(Y_out-Y_test))),Y_out.shape[1]))"
      ],
      "execution_count": 5,
      "outputs": [
        {
          "output_type": "stream",
          "text": [
            "[[-1.  1.  1.]]\n",
            "Mis-matched : 0/3\n"
          ],
          "name": "stdout"
        }
      ]
    },
    {
      "cell_type": "code",
      "metadata": {
        "id": "Owy_xtKI3CXp",
        "colab_type": "code",
        "outputId": "6ff0843f-72ee-467a-d49a-75eed8231f9b",
        "colab": {
          "base_uri": "https://localhost:8080/",
          "height": 51
        }
      },
      "source": [
        "#Testing in Backward direction means Y----->X\n",
        "\n",
        "Y_input =  np.array([-1,-1,-1]).reshape(1,3)\n",
        "X_output = np.array([-1,-1,-1,-1,-1,-1]).reshape(1,6)\n",
        "\n",
        "out = Y_input@W.T\n",
        "\n",
        "out = threshold(out)\n",
        "\n",
        "print(out)\n",
        "\n",
        "print(\"Mis-matched : {}/{}\".format(int(np.sum(abs(X_output-out))),out.shape[1]))"
      ],
      "execution_count": 6,
      "outputs": [
        {
          "output_type": "stream",
          "text": [
            "[[-1. -1. -1. -1. -1. -1.]]\n",
            "Mis-matched : 0/6\n"
          ],
          "name": "stdout"
        }
      ]
    }
  ]
}