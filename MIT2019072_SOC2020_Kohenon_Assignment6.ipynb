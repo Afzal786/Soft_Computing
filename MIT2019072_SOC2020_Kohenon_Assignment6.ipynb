{
  "nbformat": 4,
  "nbformat_minor": 0,
  "metadata": {
    "colab": {
      "name": "MIT2019072_SOC2020_Kohenon_Assignment6",
      "provenance": [],
      "authorship_tag": "ABX9TyP87l7FtwEcqkF2R8BQTxjP",
      "include_colab_link": true
    },
    "kernelspec": {
      "name": "python3",
      "display_name": "Python 3"
    }
  },
  "cells": [
    {
      "cell_type": "markdown",
      "metadata": {
        "id": "view-in-github",
        "colab_type": "text"
      },
      "source": [
        "<a href=\"https://colab.research.google.com/github/Afzal786/Soft_Computing/blob/master/MIT2019072_SOC2020_Kohenon_Assignment6.ipynb\" target=\"_parent\"><img src=\"https://colab.research.google.com/assets/colab-badge.svg\" alt=\"Open In Colab\"/></a>"
      ]
    },
    {
      "cell_type": "code",
      "metadata": {
        "id": "LrmRA-tqtbE0",
        "colab_type": "code",
        "colab": {}
      },
      "source": [
        "import numpy as np\n",
        "import random \n",
        "\n",
        "random.seed(0)\n",
        "\n",
        "#Initialization of the weight matrix between -1 and 1 values, It consist of 100 neurons \n",
        "weight = np.random.randint(-100,101,size=(100,2))/100\n",
        "\n",
        "#Initialization of the input vector between -1 and 1. The model is trained with 1500 input vectors.\n",
        "X = np.random.randint(-100,101,size=(1500,2))/100\n",
        "\n"
      ],
      "execution_count": 0,
      "outputs": []
    },
    {
      "cell_type": "code",
      "metadata": {
        "id": "_GP_gCn1VC8S",
        "colab_type": "code",
        "colab": {
          "base_uri": "https://localhost:8080/",
          "height": 265
        },
        "outputId": "fea63d73-1f46-40e9-a1cb-7333366c6a88"
      },
      "source": [
        "import matplotlib.pyplot as plt\n",
        "\n",
        "\n",
        "#Plotting of the weight vector before training\n",
        "plt.scatter(weight[:,0], weight[:,1])\n",
        "plt.show()"
      ],
      "execution_count": 3,
      "outputs": [
        {
          "output_type": "display_data",
          "data": {
            "image/png": "[encoded data removed]",
            "text/plain": [
              "<Figure size 432x288 with 1 Axes>"
            ]
          },
          "metadata": {
            "tags": [],
            "needs_background": "light"
          }
        }
      ]
    },
    {
      "cell_type": "code",
      "metadata": {
        "id": "f9il7HZBCNHJ",
        "colab_type": "code",
        "colab": {}
      },
      "source": [
        "# Learning rate is set to 0.1\n",
        "learning_rate = 0.1\n",
        "\n",
        "#Training the model \n",
        "for i in range(1000):\n",
        "  for j in range(X.shape[0]):\n",
        "    \n",
        "    #calculating the distance between the weight vectors and x input\n",
        "    d = (weight - X[j])**2\n",
        "    d = d.reshape(weight.shape[0],2)\n",
        "    d1 = np.sqrt(d[:,0] + d[:,1])\n",
        "    \n",
        "    #Finding the index where the distance is minimum\n",
        "    index = np.argmin(d1)\n",
        "\n",
        "    #Finding the delta weight\n",
        "    delta = learning_rate*(X[j]-weight[index]) \n",
        "    \n",
        "    # Updating the weight matrix \n",
        "    weight[index] = weight[index] + delta\n",
        "    "
      ],
      "execution_count": 0,
      "outputs": []
    },
    {
      "cell_type": "code",
      "metadata": {
        "id": "8zGcf9FVGFlA",
        "colab_type": "code",
        "outputId": "cb956b76-eaef-45d9-e2cf-ecf5d4c8b89a",
        "colab": {
          "base_uri": "https://localhost:8080/",
          "height": 1000
        }
      },
      "source": [
        "#Weight vector after the training of the model\n",
        "weight"
      ],
      "execution_count": 5,
      "outputs": [
        {
          "output_type": "execute_result",
          "data": {
            "text/plain": [
              "array([[-0.10243085,  0.53277249],\n",
              "       [ 0.15735333,  0.80330805],\n",
              "       [-0.66900485, -0.31075698],\n",
              "       [ 0.55258228, -0.64976114],\n",
              "       [-0.83090571, -0.19709593],\n",
              "       [-0.92754771,  0.75679786],\n",
              "       [ 0.90150888,  0.15507173],\n",
              "       [-0.7399044 ,  0.78811204],\n",
              "       [-0.18509436,  0.63189357],\n",
              "       [ 0.74177568, -0.19676981],\n",
              "       [ 0.67238741,  0.29376911],\n",
              "       [-0.54293131, -0.83169568],\n",
              "       [ 0.67351811,  0.10827804],\n",
              "       [ 0.905254  ,  0.37811511],\n",
              "       [-0.35437272,  0.1949533 ],\n",
              "       [-0.29554441, -0.05590757],\n",
              "       [-0.79246136, -0.06507117],\n",
              "       [-0.60017431,  0.72160176],\n",
              "       [ 0.57916547, -0.25652205],\n",
              "       [ 0.02542211, -0.72654436],\n",
              "       [-0.93331021,  0.31383749],\n",
              "       [ 0.80050264, -0.95576246],\n",
              "       [-0.37599086, -0.60988569],\n",
              "       [ 0.39667999,  0.3364463 ],\n",
              "       [-0.74975863,  0.38934089],\n",
              "       [ 0.39752213, -0.13617966],\n",
              "       [ 0.1425303 ,  0.96082585],\n",
              "       [-0.67998306,  0.94566921],\n",
              "       [-0.37424233,  0.46816624],\n",
              "       [ 0.23984426, -0.93957976],\n",
              "       [-0.77180166,  0.64846482],\n",
              "       [-0.59582716,  0.59499582],\n",
              "       [ 0.02246656, -0.92026638],\n",
              "       [-0.30852827, -0.91425484],\n",
              "       [ 0.37346015, -0.56415095],\n",
              "       [-0.79208251,  0.27764409],\n",
              "       [ 0.01802573, -0.18452629],\n",
              "       [-0.73616789, -0.73643176],\n",
              "       [ 0.01605975,  0.05244492],\n",
              "       [-0.15023316,  0.89965951],\n",
              "       [-0.76871519,  0.0458892 ],\n",
              "       [-0.64553963,  0.06795616],\n",
              "       [ 0.55534502, -0.89409536],\n",
              "       [-0.26033801,  0.75702478],\n",
              "       [-0.96792645,  0.58809236],\n",
              "       [ 0.3179005 ,  0.8905314 ],\n",
              "       [-0.49909108,  0.04452888],\n",
              "       [ 0.41184951,  0.08138877],\n",
              "       [ 0.01044974,  0.35832458],\n",
              "       [-0.02624817,  0.73036889],\n",
              "       [ 0.76615519, -0.78213918],\n",
              "       [-0.05174941,  0.95100201],\n",
              "       [-0.87831775,  0.92714068],\n",
              "       [ 0.11248304,  0.59584711],\n",
              "       [-0.94296098, -0.30152266],\n",
              "       [-0.60087201,  0.42557797],\n",
              "       [-0.82670977,  0.50287187],\n",
              "       [ 0.95042462, -0.71843203],\n",
              "       [ 0.01643807, -0.43978475],\n",
              "       [ 0.27541922, -0.20605945],\n",
              "       [ 0.57435843, -0.05894021],\n",
              "       [-0.44575542,  0.32999278],\n",
              "       [ 0.79974589,  0.52121814],\n",
              "       [ 0.89193027, -0.04435865],\n",
              "       [ 0.64553443,  0.68668219],\n",
              "       [ 0.20143152,  0.13247709],\n",
              "       [ 0.18953144, -0.54005881],\n",
              "       [-0.90385682, -0.45754149],\n",
              "       [ 0.44879892,  0.86276944],\n",
              "       [-0.15788712, -0.42983235],\n",
              "       [ 0.19144261, -0.33071764],\n",
              "       [ 0.89462359,  0.84426962],\n",
              "       [ 0.46246602,  0.50769682],\n",
              "       [ 0.29648519,  0.64888126],\n",
              "       [ 0.92239652, -0.25588612],\n",
              "       [-0.61224045, -0.52104383],\n",
              "       [-0.8821998 , -0.90626235],\n",
              "       [ 0.37993275, -0.34541905],\n",
              "       [-0.52648784, -0.17975863],\n",
              "       [-0.12090949,  0.14635461],\n",
              "       [-0.14216984, -0.70799135],\n",
              "       [ 0.67291716, -0.43708868],\n",
              "       [ 0.53793709, -0.47892873],\n",
              "       [-0.1890518 ,  0.3546226 ],\n",
              "       [ 0.20869629, -0.78593235],\n",
              "       [-0.62516967,  0.24958885],\n",
              "       [-0.90872012,  0.05888014],\n",
              "       [ 0.59471216,  0.93160642],\n",
              "       [-0.9459227 , -0.08307168],\n",
              "       [ 0.41036417, -0.79434146],\n",
              "       [-0.45193258,  0.8954843 ],\n",
              "       [ 0.93071471, -0.51037136],\n",
              "       [-0.42871847,  0.62057961],\n",
              "       [-0.91327437, -0.65304667],\n",
              "       [-0.35337082, -0.23313507],\n",
              "       [ 0.1967379 , -0.06493478],\n",
              "       [ 0.21559128,  0.41113751],\n",
              "       [-0.14617575, -0.20266573],\n",
              "       [-0.37872811, -0.43588922],\n",
              "       [ 0.8238472 , -0.39709159]])"
            ]
          },
          "metadata": {
            "tags": []
          },
          "execution_count": 5
        }
      ]
    },
    {
      "cell_type": "code",
      "metadata": {
        "id": "9Osv6bMoGzAs",
        "colab_type": "code",
        "outputId": "7ce5165d-9ac9-4975-c36d-9e008155f802",
        "colab": {
          "base_uri": "https://localhost:8080/",
          "height": 265
        }
      },
      "source": [
        "\n",
        "\n",
        "\n",
        "#Plotting of the weight vector\n",
        "plt.scatter(weight[:,0], weight[:,1])\n",
        "plt.show()"
      ],
      "execution_count": 6,
      "outputs": [
        {
          "output_type": "display_data",
          "data": {
            "image/png": "[encoded data removed]",
            "text/plain": [
              "<Figure size 432x288 with 1 Axes>"
            ]
          },
          "metadata": {
            "tags": [],
            "needs_background": "light"
          }
        }
      ]
    },
    {
      "cell_type": "code",
      "metadata": {
        "id": "rMcRrFCRV-DN",
        "colab_type": "code",
        "outputId": "83535a4d-2360-445f-fd27-b054390835f4",
        "colab": {
          "base_uri": "https://localhost:8080/",
          "height": 51
        }
      },
      "source": [
        "#Testing of the network with the input [0.1,0.8]\n",
        "x1 = np.array([0.1,0.8]).reshape(1,2)\n",
        "\n",
        "#Finding the distance between input and weight vector\n",
        "temp1 = (weight - x1)**2\n",
        "temp1 = temp1.reshape(weight.shape[0],2)\n",
        "temp2 = np.sqrt(temp1[:,0] + temp1[:,1])\n",
        "\n",
        "#Finding the minimum distance\n",
        "index1 = np.argmin(temp2)\n",
        "\n",
        "#The index corresponding to min value\n",
        "print(index1)\n",
        "\n",
        "#The predicted value is same as input vector hence the result is correct\n",
        "print(weight[index1])"
      ],
      "execution_count": 7,
      "outputs": [
        {
          "output_type": "stream",
          "text": [
            "1\n",
            "[0.15735333 0.80330805]\n"
          ],
          "name": "stdout"
        }
      ]
    },
    {
      "cell_type": "code",
      "metadata": {
        "id": "VU7iO-JbX6XM",
        "colab_type": "code",
        "outputId": "7db75d4a-b460-4e48-f184-6deb71f89f73",
        "colab": {
          "base_uri": "https://localhost:8080/",
          "height": 51
        }
      },
      "source": [
        "#Testing of the network with the input [0.5,-0.2]\n",
        "x2 = np.array([0.5,-0.2]).reshape(1,2)\n",
        "\n",
        "#Finding the distance between input and weight vector\n",
        "temp1 = (weight - x2)**2\n",
        "temp1 = temp1.reshape(weight.shape[0],2)\n",
        "temp2 = np.sqrt(temp1[:,0] + temp1[:,1])\n",
        "\n",
        "#Finding the minimum distance\n",
        "index1 = np.argmin(temp2)\n",
        "\n",
        "#The index corresponding to min value\n",
        "print(index1)\n",
        "\n",
        "#The predicted value is same as input vector hence the result is correct\n",
        "print(weight[index1])"
      ],
      "execution_count": 8,
      "outputs": [
        {
          "output_type": "stream",
          "text": [
            "18\n",
            "[ 0.57916547 -0.25652205]\n"
          ],
          "name": "stdout"
        }
      ]
    },
    {
      "cell_type": "code",
      "metadata": {
        "id": "zKp_RpEtYQL4",
        "colab_type": "code",
        "outputId": "6a119a11-1ee8-4434-ed06-ff9245c54190",
        "colab": {
          "base_uri": "https://localhost:8080/",
          "height": 51
        }
      },
      "source": [
        "#Testing of the network with the input [-0.8,-0.9]\n",
        "x3 = np.array([-0.8,-0.9]).reshape(1,2)\n",
        "\n",
        "#Finding the distance between input and weight vector\n",
        "temp1 = (weight - x3)**2\n",
        "temp1 = temp1.reshape(weight.shape[0],2)\n",
        "temp2 = np.sqrt(temp1[:,0] + temp1[:,1])\n",
        "\n",
        "#Finding the minimum distance\n",
        "index1 = np.argmin(temp2)\n",
        "\n",
        "#The index corresponding to min value\n",
        "print(index1)\n",
        "\n",
        "#The predicted value is same as input vector hence the result is correct\n",
        "print(weight[index1])"
      ],
      "execution_count": 9,
      "outputs": [
        {
          "output_type": "stream",
          "text": [
            "76\n",
            "[-0.8821998  -0.90626235]\n"
          ],
          "name": "stdout"
        }
      ]
    },
    {
      "cell_type": "code",
      "metadata": {
        "id": "O1GtidRNYcnM",
        "colab_type": "code",
        "outputId": "f340cf1c-34c0-400e-a623-a7bebfa33da2",
        "colab": {
          "base_uri": "https://localhost:8080/",
          "height": 51
        }
      },
      "source": [
        "#Finding the distance between input and weight vector\n",
        "x4 = np.array([-0.06,0.9]).reshape(1,2)\n",
        "\n",
        "#Finding the distance between input and weight vector\n",
        "temp1 = (weight - x4)**2\n",
        "temp1 = temp1.reshape(weight.shape[0],2)\n",
        "temp2 = np.sqrt(temp1[:,0] + temp1[:,1])\n",
        "\n",
        "#Finding the minimum distance\n",
        "index1 = np.argmin(temp2)\n",
        "\n",
        "#The index corresponding to min value\n",
        "print(index1)\n",
        "\n",
        "#The predicted value is same as input vector hence the result is correct\n",
        "print(weight[index1])"
      ],
      "execution_count": 10,
      "outputs": [
        {
          "output_type": "stream",
          "text": [
            "51\n",
            "[-0.05174941  0.95100201]\n"
          ],
          "name": "stdout"
        }
      ]
    }
  ]
}