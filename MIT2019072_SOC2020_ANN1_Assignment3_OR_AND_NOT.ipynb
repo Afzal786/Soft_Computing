{
  "nbformat": 4,
  "nbformat_minor": 0,
  "metadata": {
    "colab": {
      "name": "Perceptron_OR/AND/NOT.ipynb",
      "provenance": [],
      "authorship_tag": "ABX9TyPLKjcpaHOsYjEy5s3KguJ1",
      "include_colab_link": true
    },
    "kernelspec": {
      "name": "python3",
      "display_name": "Python 3"
    }
  },
  "cells": [
    {
      "cell_type": "markdown",
      "metadata": {
        "id": "view-in-github",
        "colab_type": "text"
      },
      "source": [
        "<a href=\"https://colab.research.google.com/github/Afzal786/Soft_Computing/blob/master/MIT2019072_SOC2020_ANN1_Assignment3_OR_AND_NOT.ipynb\" target=\"_parent\"><img src=\"https://colab.research.google.com/assets/colab-badge.svg\" alt=\"Open In Colab\"/></a>"
      ]
    },
    {
      "cell_type": "code",
      "metadata": {
        "id": "ZLHh8w07Ok9f",
        "colab_type": "code",
        "colab": {
          "base_uri": "https://localhost:8080/",
          "height": 71
        },
        "outputId": "19717ff0-ab07-4d5d-c898-9514d1815a02"
      },
      "source": [
        "import numpy as np \n",
        "import pandas as pd \n",
        "import seaborn as sns \n",
        "import matplotlib.pyplot as plt\n",
        "from sklearn.metrics import accuracy_score\n",
        "\n",
        "# class Perceptron consist of all the functions for the perceptron algo to function\n",
        "class Perceptron(object):\n",
        "    #initializing the weights, learning rate, epochs\n",
        "    def __init__(self, input_size, lr=0.1, epochs=10000):\n",
        "        self.W = np.zeros(input_size+1)\n",
        "        self.epochs = epochs\n",
        "        self.lr = lr\n",
        "    # here the activation function used is if W.x + b >= 0 return 1 else 0\n",
        "    def activation_fn(self, x):\n",
        "        return 1 if x >= 0 else 0\n",
        "    \n",
        "    # This function predict the value of the particular dataset \n",
        "    def predict(self, x):\n",
        "        z = self.W.T.dot(x)\n",
        "        a = self.activation_fn(z)\n",
        "        return a\n",
        " \n",
        "    # This function runs the training of the network. \n",
        "    def fit(self, X, d):\n",
        "        for _ in range(self.epochs): #runs the epochs\n",
        "            for i in range(d.shape[0]): #runs through the number of data points in dataset\n",
        "                x = np.insert(X[i], 0, 1) #adding bias at the begining of the data points\n",
        "                y = self.predict(x) #predicting the value\n",
        "                e = d[i] - y #calculating the error\n",
        "                self.W = self.W + self.lr * e * x #modifying the weigths of the network."
      ],
      "execution_count": 1,
      "outputs": [
        {
          "output_type": "stream",
          "text": [
            "/usr/local/lib/python3.6/dist-packages/statsmodels/tools/_testing.py:19: FutureWarning: pandas.util.testing is deprecated. Use the functions in the public API at pandas.testing instead.\n",
            "  import pandas.util.testing as tm\n"
          ],
          "name": "stderr"
        }
      ]
    },
    {
      "cell_type": "code",
      "metadata": {
        "id": "Q60aJh9IOo6Y",
        "colab_type": "code",
        "outputId": "84292254-9f05-44f8-b765-7cadd2f38374",
        "colab": {
          "base_uri": "https://localhost:8080/",
          "height": 68
        }
      },
      "source": [
        "#input set for AND && OR operation\n",
        "X = np.array([\n",
        "        [0, 0],\n",
        "        [0, 1],\n",
        "        [1, 0],\n",
        "        [1, 1]\n",
        "])\n",
        "\n",
        "#input set for the NOT operation\n",
        "X_not = np.array([[0],[1]])\n",
        "\n",
        "# This section consist of y actual values of OR function, then initializing the perceptron to number of columns in dataset \n",
        "# and then running the perceptron algo\n",
        "y_or = np.array([0, 1, 1, 1])\n",
        "perceptron = Perceptron(input_size=2)\n",
        "perceptron.fit(X, y_or)\n",
        "w_or = perceptron.W.reshape(1,3)\n",
        "\n",
        "#printing the weights obtained.\n",
        "print(\"Weight Obtained for OR : {}\".format(w_or))\n",
        "\n",
        "# This section consist of y actual values of AND function, then initializing the perceptron to number of columns in dataset \n",
        "# and then running the perceptron algo\n",
        "y_and = np.array([0, 0, 0, 1])\n",
        "perceptron = Perceptron(input_size=2)\n",
        "perceptron.fit(X, y_and)\n",
        "w_and = perceptron.W.reshape(1,3)\n",
        "\n",
        "#printing the weights obtained.\n",
        "print(\"Weight Obtained for AND : {}\".format(w_and))\n",
        "\n",
        "# This section consist of y actual values of NOT function, then initializing the perceptron to number of columns in dataset \n",
        "# and then running the perceptron algo\n",
        "y_not = np.array([1, 0])\n",
        "perceptron = Perceptron(input_size=1)\n",
        "perceptron.fit(X_not, y_not)\n",
        "w_not = perceptron.W.reshape(1,2)\n",
        "\n",
        "#printing the weights obtained.\n",
        "print(\"Weight Obtained for NOT : {}\".format(w_not))\n",
        "\n"
      ],
      "execution_count": 2,
      "outputs": [
        {
          "output_type": "stream",
          "text": [
            "Weight Obtained for OR : [[-0.1  0.1  0.1]]\n",
            "Weight Obtained for AND : [[-0.2  0.2  0.1]]\n",
            "Weight Obtained for NOT : [[ 0.  -0.1]]\n"
          ],
          "name": "stdout"
        }
      ]
    },
    {
      "cell_type": "code",
      "metadata": {
        "id": "VM9Pd6ZI5gYw",
        "colab_type": "code",
        "colab": {}
      },
      "source": [
        "# This function is used to get the predicted results once the weights are obtained for AND && OR operations\n",
        "def get_result(w,y_new):\n",
        "  X_new = np.array([\n",
        "        [1, 0, 0],\n",
        "        [1, 0, 1],\n",
        "        [1, 1, 0],\n",
        "        [1, 1, 1]\n",
        "  ]).reshape(4,3)\n",
        "\n",
        "  y_pred = X_new@w.T\n",
        "    \n",
        "    \n",
        "  for i in range(len(y_pred)):\n",
        "    if y_pred[i] >= 0:\n",
        "      y_pred[i] = 1\n",
        "    else:\n",
        "      y_pred[i] = 0\n",
        "\n",
        "  y_pred = y_pred.reshape(4,1)\n",
        "\n",
        "  print(y_pred)\n",
        "\n",
        "  print(\"Accuracy obtained: {} \".format(accuracy_score(y_new, y_pred)*100))\n",
        "\n",
        "  return y_pred\n"
      ],
      "execution_count": 0,
      "outputs": []
    },
    {
      "cell_type": "code",
      "metadata": {
        "id": "UlQ5Wluz7UJO",
        "colab_type": "code",
        "colab": {}
      },
      "source": [
        "# This function is used to get the predicted results once the weights are obtained for NOT operations\n",
        "def get_result1(w,y_new):\n",
        "  X_new = np.array([\n",
        "        [1, 0],\n",
        "        [1, 1]\n",
        "  ]).reshape(2,2)\n",
        "\n",
        "  y_pred = X_new@w.T\n",
        "    \n",
        "    \n",
        "  for i in range(len(y_pred)):\n",
        "    if y_pred[i] >= 0:\n",
        "      y_pred[i] = 1\n",
        "    else:\n",
        "      y_pred[i] = 0\n",
        "\n",
        "  y_pred = y_pred.reshape(2,1)\n",
        "\n",
        "  print(y_pred)\n",
        "\n",
        "  print(\"Accuracy obtained: {} \".format(accuracy_score(y_new, y_pred)*100))\n",
        "\n",
        "  return y_pred\n"
      ],
      "execution_count": 0,
      "outputs": []
    },
    {
      "cell_type": "code",
      "metadata": {
        "id": "fReymED55oVY",
        "colab_type": "code",
        "outputId": "87317058-300e-45cf-a053-58e7303920f8",
        "colab": {
          "base_uri": "https://localhost:8080/",
          "height": 340
        }
      },
      "source": [
        "#Printing the predicted values.\n",
        "\n",
        "print(\"Perceptron for OR operation : \\n\")\n",
        "y_or = get_result(w_or,np.array([0,1,1,1]).reshape(4,1))\n",
        "\n",
        "print(\"Perceptron for AND operation : \\n\")\n",
        "y_and = get_result(w_and,np.array([0,0,0,1]).reshape(4,1))\n",
        "\n",
        "print(\"Perceptron for NOT operation : \\n\")\n",
        "y_not = get_result1(w_not,np.array([1,0]).reshape(2,1))"
      ],
      "execution_count": 5,
      "outputs": [
        {
          "output_type": "stream",
          "text": [
            "Perceptron for OR operation : \n",
            "\n",
            "[[0.]\n",
            " [1.]\n",
            " [1.]\n",
            " [1.]]\n",
            "Accuracy obtained: 100.0 \n",
            "Perceptron for AND operation : \n",
            "\n",
            "[[0.]\n",
            " [0.]\n",
            " [0.]\n",
            " [1.]]\n",
            "Accuracy obtained: 100.0 \n",
            "Perceptron for NOT operation : \n",
            "\n",
            "[[1.]\n",
            " [0.]]\n",
            "Accuracy obtained: 100.0 \n"
          ],
          "name": "stdout"
        }
      ]
    },
    {
      "cell_type": "code",
      "metadata": {
        "id": "8MgB1B5XgqcE",
        "colab_type": "code",
        "outputId": "77a876a5-d602-4bc8-d1dd-24059069d9e3",
        "colab": {
          "base_uri": "https://localhost:8080/",
          "height": 272
        }
      },
      "source": [
        "# Creating the dataset in the desired format.\n",
        "data1  = np.vstack((X.T,y_or.T)).T\n",
        "data2  = np.vstack((X.T,y_and.T)).T\n",
        "\n",
        "# creating dataframe of the array in order to give it as input in seaborn plotting fucntion.\n",
        "dataframe1 = pd.DataFrame(data=data1, columns=(\"1st_principal\", \"2nd_principal\", \"label\"))\n",
        "\n",
        "dataframe2 = pd.DataFrame(data=data2, columns=(\"1st_principal\", \"2nd_principal\", \"label\"))\n",
        "\n",
        "print(\"Predicted Output for OR :\\n\")\n",
        "print(dataframe1.head(5))\n",
        "\n",
        "print(\"\\nPredicted Output for AND :\\n\")\n",
        "print(dataframe2.head(5))"
      ],
      "execution_count": 6,
      "outputs": [
        {
          "output_type": "stream",
          "text": [
            "Predicted Output for OR :\n",
            "\n",
            "   1st_principal  2nd_principal  label\n",
            "0            0.0            0.0    0.0\n",
            "1            0.0            1.0    1.0\n",
            "2            1.0            0.0    1.0\n",
            "3            1.0            1.0    1.0\n",
            "\n",
            "Predicted Output for AND :\n",
            "\n",
            "   1st_principal  2nd_principal  label\n",
            "0            0.0            0.0    0.0\n",
            "1            0.0            1.0    0.0\n",
            "2            1.0            0.0    0.0\n",
            "3            1.0            1.0    1.0\n"
          ],
          "name": "stdout"
        }
      ]
    },
    {
      "cell_type": "code",
      "metadata": {
        "id": "hu12ZbBNfK4h",
        "colab_type": "code",
        "outputId": "5fefbd18-3ba9-4d7e-8375-26301870f200",
        "colab": {
          "base_uri": "https://localhost:8080/",
          "height": 495
        }
      },
      "source": [
        "# Plotting the classification result for the OR operation .\n",
        "sns.FacetGrid(dataframe1, hue=\"label\", size=6).map(plt.scatter, '2nd_principal', '1st_principal').add_legend()\n",
        "plt.show()"
      ],
      "execution_count": 7,
      "outputs": [
        {
          "output_type": "stream",
          "text": [
            "/usr/local/lib/python3.6/dist-packages/seaborn/axisgrid.py:243: UserWarning: The `size` parameter has been renamed to `height`; please update your code.\n",
            "  warnings.warn(msg, UserWarning)\n"
          ],
          "name": "stderr"
        },
        {
          "output_type": "display_data",
          "data": {
            "image/png": "[encoded data removed]",
            "text/plain": [
              "<Figure size 483.875x432 with 1 Axes>"
            ]
          },
          "metadata": {
            "tags": []
          }
        }
      ]
    },
    {
      "cell_type": "code",
      "metadata": {
        "id": "iCjOvAtTfTTU",
        "colab_type": "code",
        "outputId": "3a123e18-0bda-4b61-81b6-8787b1d65240",
        "colab": {
          "base_uri": "https://localhost:8080/",
          "height": 495
        }
      },
      "source": [
        "# Plotting the classification result for the AND operation .\n",
        "sns.FacetGrid(dataframe2, hue=\"label\", size=6).map(plt.scatter, '2nd_principal', '1st_principal').add_legend()\n",
        "plt.show()"
      ],
      "execution_count": 8,
      "outputs": [
        {
          "output_type": "stream",
          "text": [
            "/usr/local/lib/python3.6/dist-packages/seaborn/axisgrid.py:243: UserWarning: The `size` parameter has been renamed to `height`; please update your code.\n",
            "  warnings.warn(msg, UserWarning)\n"
          ],
          "name": "stderr"
        },
        {
          "output_type": "display_data",
          "data": {
            "image/png": "[encoded data removed]",
            "text/plain": [
              "<Figure size 483.875x432 with 1 Axes>"
            ]
          },
          "metadata": {
            "tags": []
          }
        }
      ]
    }
  ]
}