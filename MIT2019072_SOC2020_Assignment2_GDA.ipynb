{
  "nbformat": 4,
  "nbformat_minor": 0,
  "metadata": {
    "colab": {
      "name": "GDA_SOC.ipynb",
      "provenance": [],
      "authorship_tag": "ABX9TyPnQ5RSr/7rPHipK+w4rEo2",
      "include_colab_link": true
    },
    "kernelspec": {
      "name": "python3",
      "display_name": "Python 3"
    }
  },
  "cells": [
    {
      "cell_type": "markdown",
      "metadata": {
        "id": "view-in-github",
        "colab_type": "text"
      },
      "source": [
        "<a href=\"https://colab.research.google.com/github/Afzal786/Soft_Computing/blob/master/MIT2019072_SOC2020_Assignment2_GDA.ipynb\" target=\"_parent\"><img src=\"https://colab.research.google.com/assets/colab-badge.svg\" alt=\"Open In Colab\"/></a>"
      ]
    },
    {
      "cell_type": "code",
      "metadata": {
        "id": "52ijdgREBleP",
        "colab_type": "code",
        "outputId": "9c5045b6-af92-4212-98c4-5c7f8f61b487",
        "colab": {
          "base_uri": "https://localhost:8080/",
          "height": 255
        }
      },
      "source": [
        "import numpy as np\n",
        "import pandas as pd\n",
        "import matplotlib.pyplot as plt\n",
        "\n",
        "#data is loaded using Pandas library  \n",
        "d0 = pd.read_csv('micro.csv')\n",
        "\n",
        "#Partitioning the dataset into data points and labels\n",
        "label  = d0['y']\n",
        "data = d0.drop(\"y\",axis=1)\n",
        "\n",
        "#obtained data-set after processing\n",
        "print(d0)"
      ],
      "execution_count": 0,
      "outputs": [
        {
          "output_type": "stream",
          "text": [
            "           x1        x2  y\n",
            "0    0.051267  0.699560  1\n",
            "1   -0.092742  0.684940  1\n",
            "2   -0.213710  0.692250  1\n",
            "3   -0.375000  0.502190  1\n",
            "4   -0.513250  0.465640  1\n",
            "..        ...       ... ..\n",
            "113 -0.720620  0.538740  0\n",
            "114 -0.593890  0.494880  0\n",
            "115 -0.484450  0.999270  0\n",
            "116 -0.006336  0.999270  0\n",
            "117  0.632650 -0.030612  0\n",
            "\n",
            "[118 rows x 3 columns]\n"
          ],
          "name": "stdout"
        }
      ]
    },
    {
      "cell_type": "code",
      "metadata": {
        "id": "4luxQZK6w100",
        "colab_type": "code",
        "colab": {}
      },
      "source": [
        "from sklearn.model_selection import train_test_split\n",
        "def gaussian_discriminant_analysis(y,x):\n",
        "    \n",
        "    #data-set splitting into training and testing data\n",
        "    #training data-set = 70%\n",
        "    #testing data-set = 30%\n",
        "    \n",
        "    x_train, x_test, y_train, y_test = train_test_split(x, y, test_size=0.3)\n",
        "\n",
        "    #calculating phi a for p(x/y=1)\n",
        "    phi=len(x_train[y_train==1])/len(x_train)\n",
        "    \n",
        "    #calculate the mean vector for the two cases\n",
        "    #y==0 and y==1\n",
        "    mean0=np.mean(x_train[y_train==0],0)\n",
        "    mean1=np.mean(x_train[y_train==1],0)\n",
        "    \n",
        "    #calculate the difference between x and mean for the two cases\n",
        "    #concatenate x for two cases \n",
        "    dif=pd.concat([x_train[y_train==0]-mean0,x_train[y_train==1]-mean1])\n",
        "    \n",
        "    temp=list(dif.columns)\n",
        "    cov=[]\n",
        "\n",
        "    #calculate the covariance matrix\n",
        "    for i in range(len(dif.columns)):\n",
        "        for j in range(len(dif.columns)):\n",
        "            cov.append(( np.mat(dif[temp[i]])*np.mat(dif[temp[j]]).T).item()/len(temp))\n",
        "\n",
        "    #print(len(cov))\n",
        "    cov=np.mat(cov).reshape(2,2)\n",
        "    \n",
        "    \n",
        "\n",
        "    p0=[]\n",
        "    p1=[]\n",
        "    \n",
        "    #covariance matrix and phi\n",
        "    #we use bayesian conditional probability formula to calculate the probability of y==0 and y==1 for each x and we use the larger probability of the two to predict y\n",
        "    \n",
        "    for k in range(len(x_test)):\n",
        "        \n",
        "        probability0=phi/(np.linalg.det(2*np.pi*cov)**(0.5)) *np.exp(-0.5*(np.mat(x_test.iloc[k]-mean0))*cov.I*(np.mat(x_test.iloc[k]-mean0)).T)\n",
        "        \n",
        "        \n",
        "        probability1=phi/(np.linalg.det(2*np.pi*cov)**(0.5))*np.exp(-0.5*(np.mat(x_test.iloc[k]-mean1))*cov.I*(np.mat(x_test.iloc[k]-mean1)).T)\n",
        "        \n",
        "        \n",
        "        p0.append(probability0.item())\n",
        "        p1.append(probability1.item())\n",
        "    \n",
        "    #we use numpy sign numpy sign treats positive number as 1 it treats zero as 0\n",
        "    #however, it treats negative number as -1 we use a map function to convert -1 to 0\n",
        "    \n",
        "    predict=np.sign(np.subtract(p1,p0))\n",
        "    predict=list(map(lambda x: 0 if x<0 else int(x),predict))\n",
        "    \n",
        "    #PLOTTING the actual and predicted data using seaborn\n",
        "    import seaborn as sn\n",
        "    print(\"Plot of Predicted labels\")\n",
        "    data1 = np.vstack((x_test.T,predict)).T\n",
        "    df1 = pd.DataFrame(data=data1, columns=(\"1st_principal\", \"2nd_principal\", \"predict\"))\n",
        "    #print(df1)\n",
        "    sn.FacetGrid(df1, hue=\"predict\", size=5).map(plt.scatter, '1st_principal', '2nd_principal').add_legend()\n",
        "    plt.show()\n",
        "\n",
        "    print(\"Plot of Actual labels\")\n",
        "\n",
        "    data2 = np.vstack((x_test.T,y_test)).T\n",
        "    df2 = pd.DataFrame(data=data2, columns=(\"1st_principal\", \"2nd_principal\", \"y_test\"))\n",
        "    sn.FacetGrid(df2, hue=\"y_test\", size=5).map(plt.scatter, '1st_principal', '2nd_principal').add_legend()\n",
        "    plt.show()\n",
        "\n",
        "    #test Accuracy obtained after the classification is calculated as \n",
        "    print('test accuracy: {}%'.format(len(y_test[predict==y_test])/len(y_test)*100))\n",
        "    \n",
        "    return"
      ],
      "execution_count": 0,
      "outputs": []
    },
    {
      "cell_type": "markdown",
      "metadata": {
        "id": "m1AJrrVuPLwf",
        "colab_type": "text"
      },
      "source": [
        "# **Raw data Submitted to GDA**"
      ]
    },
    {
      "cell_type": "code",
      "metadata": {
        "id": "cfwwRNRFDvW5",
        "colab_type": "code",
        "outputId": "832fdf3c-ab52-41c1-a04f-31905dff0272",
        "colab": {
          "base_uri": "https://localhost:8080/",
          "height": 826
        }
      },
      "source": [
        "#print(data)\n",
        "gaussian_discriminant_analysis(label,data)"
      ],
      "execution_count": 0,
      "outputs": [
        {
          "output_type": "stream",
          "text": [
            "Plot of Predicted labels\n"
          ],
          "name": "stdout"
        },
        {
          "output_type": "stream",
          "text": [
            "/usr/local/lib/python3.6/dist-packages/seaborn/axisgrid.py:243: UserWarning: The `size` parameter has been renamed to `height`; please update your code.\n",
            "  warnings.warn(msg, UserWarning)\n"
          ],
          "name": "stderr"
        },
        {
          "output_type": "display_data",
          "data": {
            "image/png": "[encoded data removed]",
            "text/plain": [
              "<Figure size 411.875x360 with 1 Axes>"
            ]
          },
          "metadata": {
            "tags": []
          }
        },
        {
          "output_type": "stream",
          "text": [
            "Plot of Actual labels\n"
          ],
          "name": "stdout"
        },
        {
          "output_type": "display_data",
          "data": {
            "image/png": "[encoded data removed]",
            "text/plain": [
              "<Figure size 411.875x360 with 1 Axes>"
            ]
          },
          "metadata": {
            "tags": []
          }
        },
        {
          "output_type": "stream",
          "text": [
            "test accuracy: 36.11111111111111%\n"
          ],
          "name": "stdout"
        }
      ]
    },
    {
      "cell_type": "markdown",
      "metadata": {
        "id": "rSTUet-1PbEr",
        "colab_type": "text"
      },
      "source": [
        "# **Box- Muller Transformation for the data**"
      ]
    },
    {
      "cell_type": "code",
      "metadata": {
        "id": "IQJGpXE6FWDJ",
        "colab_type": "code",
        "outputId": "6da0e7fc-e8a1-4869-ae6f-7f95e65b0e75",
        "colab": {
          "base_uri": "https://localhost:8080/",
          "height": 105
        }
      },
      "source": [
        "def generate_normal(x1,x2):\n",
        "  z1 = np.sqrt(-2*np.log(x1))*np.cos(2*np.pi*x2)\n",
        "  z2 = np.sqrt(-2*np.log(x1))*np.sin(2*np.pi*x2)\n",
        "  return z1,z2\n",
        "\n",
        "data_new = np.zeros(len(data['x1'])*2).reshape(len(data['x1']),2)\n",
        "\n",
        "[data_new[:,0],data_new[:,1]] = generate_normal(data['x1'],data['x2'])\n"
      ],
      "execution_count": 0,
      "outputs": [
        {
          "output_type": "stream",
          "text": [
            "/usr/local/lib/python3.6/dist-packages/pandas/core/series.py:856: RuntimeWarning: invalid value encountered in log\n",
            "  result = getattr(ufunc, method)(*inputs, **kwargs)\n",
            "/usr/local/lib/python3.6/dist-packages/pandas/core/series.py:856: RuntimeWarning: invalid value encountered in sqrt\n",
            "  result = getattr(ufunc, method)(*inputs, **kwargs)\n"
          ],
          "name": "stderr"
        }
      ]
    },
    {
      "cell_type": "markdown",
      "metadata": {
        "id": "k6IGImGIPkRu",
        "colab_type": "text"
      },
      "source": [
        "# **After the Data is normally distributed passing it to GDA**"
      ]
    },
    {
      "cell_type": "code",
      "metadata": {
        "id": "nEJe7BSkGgt-",
        "colab_type": "code",
        "outputId": "e6f35fb7-1570-4b3b-e846-66ef6c25c38d",
        "colab": {
          "base_uri": "https://localhost:8080/",
          "height": 826
        }
      },
      "source": [
        "data_new = np.nan_to_num(data_new)\n",
        "new_df = pd.DataFrame(data=data_new, columns=(\"x1\", \"x2\"))\n",
        "gaussian_discriminant_analysis(label,new_df)"
      ],
      "execution_count": 0,
      "outputs": [
        {
          "output_type": "stream",
          "text": [
            "Plot of Predicted labels\n"
          ],
          "name": "stdout"
        },
        {
          "output_type": "stream",
          "text": [
            "/usr/local/lib/python3.6/dist-packages/seaborn/axisgrid.py:243: UserWarning: The `size` parameter has been renamed to `height`; please update your code.\n",
            "  warnings.warn(msg, UserWarning)\n"
          ],
          "name": "stderr"
        },
        {
          "output_type": "display_data",
          "data": {
            "image/png": "[encoded data removed]",
            "text/plain": [
              "<Figure size 411.875x360 with 1 Axes>"
            ]
          },
          "metadata": {
            "tags": []
          }
        },
        {
          "output_type": "stream",
          "text": [
            "Plot of Actual labels\n"
          ],
          "name": "stdout"
        },
        {
          "output_type": "display_data",
          "data": {
            "image/png": "[encoded data removed]",
            "text/plain": [
              "<Figure size 411.875x360 with 1 Axes>"
            ]
          },
          "metadata": {
            "tags": []
          }
        },
        {
          "output_type": "stream",
          "text": [
            "test accuracy: 47.22222222222222%\n"
          ],
          "name": "stdout"
        }
      ]
    }
  ]
}