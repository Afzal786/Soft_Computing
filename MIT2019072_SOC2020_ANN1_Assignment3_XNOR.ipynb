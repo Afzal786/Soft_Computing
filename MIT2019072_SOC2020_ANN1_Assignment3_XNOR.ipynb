{
  "nbformat": 4,
  "nbformat_minor": 0,
  "metadata": {
    "colab": {
      "name": "Perceptron_XNOR.ipynb",
      "provenance": [],
      "collapsed_sections": [],
      "authorship_tag": "ABX9TyOD3c4oMfDmUNkw0UltJSvG",
      "include_colab_link": true
    },
    "kernelspec": {
      "name": "python3",
      "display_name": "Python 3"
    }
  },
  "cells": [
    {
      "cell_type": "markdown",
      "metadata": {
        "id": "view-in-github",
        "colab_type": "text"
      },
      "source": [
        "<a href=\"https://colab.research.google.com/github/Afzal786/Soft_Computing/blob/master/MIT2019072_SOC2020_ANN1_Assignment3_XNOR.ipynb\" target=\"_parent\"><img src=\"https://colab.research.google.com/assets/colab-badge.svg\" alt=\"Open In Colab\"/></a>"
      ]
    },
    {
      "cell_type": "code",
      "metadata": {
        "id": "ZLHh8w07Ok9f",
        "colab_type": "code",
        "colab": {
          "base_uri": "https://localhost:8080/",
          "height": 71
        },
        "outputId": "3e7c61b2-ecf0-4718-a0be-767d29577416"
      },
      "source": [
        "import numpy as np \n",
        "import pandas as pd \n",
        "import seaborn as sns \n",
        "import matplotlib.pyplot as plt\n",
        "from sklearn.metrics import accuracy_score\n",
        "\n",
        "# class Perceptron consist of all the functions for the perceptron algo to function\n",
        "class Perceptron(object):\n",
        "    #initializing the weights, learning rate, epochs\n",
        "    def __init__(self, input_size, lr=0.1, epochs=10000):\n",
        "        self.W = np.zeros(input_size+1)\n",
        "        self.epochs = epochs\n",
        "        self.lr = lr\n",
        "    # here the activation function used is if W.x + b >= 0 return 1 else 0\n",
        "    def activation_fn(self, x):\n",
        "        return 1 if x >= 0 else 0\n",
        "    \n",
        "    # This function predict the value of the particular dataset \n",
        "    def predict(self, x):\n",
        "        z = self.W.T.dot(x)\n",
        "        a = self.activation_fn(z)\n",
        "        return a\n",
        " \n",
        "    # This function runs the training of the network. \n",
        "    def fit(self, X, d):\n",
        "        for _ in range(self.epochs): #runs the epochs\n",
        "            for i in range(d.shape[0]): #runs through the number of data points in dataset\n",
        "                x = np.insert(X[i], 0, 1) #adding bias at the begining of the data points\n",
        "                y = self.predict(x) #predicting the value\n",
        "                e = d[i] - y #calculating the error\n",
        "                self.W = self.W + self.lr * e * x #modifying the weigths of the network."
      ],
      "execution_count": 1,
      "outputs": [
        {
          "output_type": "stream",
          "text": [
            "/usr/local/lib/python3.6/dist-packages/statsmodels/tools/_testing.py:19: FutureWarning: pandas.util.testing is deprecated. Use the functions in the public API at pandas.testing instead.\n",
            "  import pandas.util.testing as tm\n"
          ],
          "name": "stderr"
        }
      ]
    },
    {
      "cell_type": "code",
      "metadata": {
        "id": "Q60aJh9IOo6Y",
        "colab_type": "code",
        "outputId": "6ee05226-c65d-4c3f-fc3e-ea1f0acb1f19",
        "colab": {
          "base_uri": "https://localhost:8080/",
          "height": 68
        }
      },
      "source": [
        "#input set for AND && OR operation\n",
        "X = np.array([\n",
        "        [0, 0],\n",
        "        [0, 1],\n",
        "        [1, 0],\n",
        "        [1, 1]\n",
        "])\n",
        "\n",
        "#input set for the NOT operation\n",
        "X_not = np.array([[0],[1]])\n",
        "\n",
        "# This section consist of y actual values of OR function, then initializing the perceptron to number of columns in dataset \n",
        "# and then running the perceptron algo\n",
        "y_or = np.array([0, 1, 1, 1])\n",
        "perceptron = Perceptron(input_size=2)\n",
        "perceptron.fit(X, y_or)\n",
        "w_or = perceptron.W.reshape(1,3)\n",
        "\n",
        "#printing the weights obtained.\n",
        "print(\"Weight Obtained for OR : {}\".format(w_or))\n",
        "\n",
        "# This section consist of y actual values of AND function, then initializing the perceptron to number of columns in dataset \n",
        "# and then running the perceptron algo\n",
        "y_and = np.array([0, 0, 0, 1])\n",
        "perceptron = Perceptron(input_size=2)\n",
        "perceptron.fit(X, y_and)\n",
        "w_and = perceptron.W.reshape(1,3)\n",
        "\n",
        "#printing the weights obtained.\n",
        "print(\"Weight Obtained for AND : {}\".format(w_and))\n",
        "\n",
        "# This section consist of y actual values of NOT function, then initializing the perceptron to number of columns in dataset \n",
        "# and then running the perceptron algo\n",
        "y_not = np.array([1, 0])\n",
        "perceptron = Perceptron(input_size=1)\n",
        "perceptron.fit(X_not, y_not)\n",
        "w_not = perceptron.W.reshape(1,2)\n",
        "\n",
        "#printing the weights obtained.\n",
        "print(\"Weight Obtained for NOT : {}\".format(w_not))\n",
        "\n"
      ],
      "execution_count": 2,
      "outputs": [
        {
          "output_type": "stream",
          "text": [
            "Weight Obtained for OR : [[-0.1  0.1  0.1]]\n",
            "Weight Obtained for AND : [[-0.2  0.2  0.1]]\n",
            "Weight Obtained for NOT : [[ 0.  -0.1]]\n"
          ],
          "name": "stdout"
        }
      ]
    },
    {
      "cell_type": "code",
      "metadata": {
        "id": "qcO4jIpaoLPM",
        "colab_type": "code",
        "colab": {}
      },
      "source": [
        "def get_output(X_new,w):\n",
        "  X_new = np.insert(X_new,0,1)\n",
        "\n",
        "  y_pred = X_new@w.T\n",
        "    \n",
        "  #print(y_pred)\n",
        "    \n",
        "  for i in range(len(y_pred)):\n",
        "    if y_pred[i] >= 0:\n",
        "      y_pred[i] = 1\n",
        "    else:\n",
        "      y_pred[i] = 0\n",
        "\n",
        "  y_pred = y_pred.reshape(len(y_pred),1)\n",
        "\n",
        "  return y_pred\n"
      ],
      "execution_count": 0,
      "outputs": []
    },
    {
      "cell_type": "code",
      "metadata": {
        "id": "aa-HhvSJsQOJ",
        "colab_type": "code",
        "colab": {}
      },
      "source": [
        "def XNOR_net(x):\n",
        "    gate_1 = get_output(x,w_and)\n",
        "    gate_2 = get_output(gate_1,w_not)\n",
        "    gate_3 = get_output(x,w_or)\n",
        "    new_x = np.array([gate_2, gate_3])\n",
        "    gate4 = get_output(new_x,w_and)\n",
        "    output = get_output(gate4,w_not)\n",
        "\n",
        "    return output"
      ],
      "execution_count": 0,
      "outputs": []
    },
    {
      "cell_type": "code",
      "metadata": {
        "id": "gVu-Gr3yshDs",
        "colab_type": "code",
        "outputId": "2f26c696-7388-473f-9425-b5ba972d1b0b",
        "colab": {
          "base_uri": "https://localhost:8080/",
          "height": 85
        }
      },
      "source": [
        "y_output_xnor = np.zeros(4).reshape(4,1)\n",
        "y_output_xnor[0] = XNOR_net(np.array([0,0]))\n",
        "y_output_xnor[1] = XNOR_net(np.array([0,1]))\n",
        "y_output_xnor[2] = XNOR_net(np.array([1,0]))\n",
        "y_output_xnor[3] = XNOR_net(np.array([1,1]))\n",
        "\n",
        "\n",
        "\n",
        "print(y_output_xnor)"
      ],
      "execution_count": 0,
      "outputs": [
        {
          "output_type": "stream",
          "text": [
            "[[1.]\n",
            " [0.]\n",
            " [0.]\n",
            " [1.]]\n"
          ],
          "name": "stdout"
        }
      ]
    },
    {
      "cell_type": "code",
      "metadata": {
        "id": "8MgB1B5XgqcE",
        "colab_type": "code",
        "outputId": "1bb5288f-c28a-42d9-d0f6-a5b8e4e5b140",
        "colab": {
          "base_uri": "https://localhost:8080/",
          "height": 136
        }
      },
      "source": [
        "print(\"Output Predicted : \\n\")\n",
        "\n",
        "data1  = np.vstack((X.T,y_output_xnor.T)).T\n",
        "\n",
        "dataframe1 = pd.DataFrame(data=data1, columns=(\"1st_principal\", \"2nd_principal\", \"label\"))\n",
        "\n",
        "\n",
        "print(dataframe1.head(5))\n"
      ],
      "execution_count": 0,
      "outputs": [
        {
          "output_type": "stream",
          "text": [
            "Output Predicted : \n",
            "\n",
            "   1st_principal  2nd_principal  label\n",
            "0            0.0            0.0    1.0\n",
            "1            0.0            1.0    0.0\n",
            "2            1.0            0.0    0.0\n",
            "3            1.0            1.0    1.0\n"
          ],
          "name": "stdout"
        }
      ]
    },
    {
      "cell_type": "code",
      "metadata": {
        "id": "hu12ZbBNfK4h",
        "colab_type": "code",
        "outputId": "99add111-a6e3-47b5-8241-d8d040196e68",
        "colab": {
          "base_uri": "https://localhost:8080/",
          "height": 495
        }
      },
      "source": [
        "\n",
        "sns.FacetGrid(dataframe1, hue=\"label\", size=6).map(plt.scatter, '2nd_principal', '1st_principal').add_legend()\n",
        "plt.show()"
      ],
      "execution_count": 0,
      "outputs": [
        {
          "output_type": "stream",
          "text": [
            "/usr/local/lib/python3.6/dist-packages/seaborn/axisgrid.py:243: UserWarning: The `size` parameter has been renamed to `height`; please update your code.\n",
            "  warnings.warn(msg, UserWarning)\n"
          ],
          "name": "stderr"
        },
        {
          "output_type": "display_data",
          "data": {
            "image/png": "[encoded data removed]",
            "text/plain": [
              "<Figure size 483.875x432 with 1 Axes>"
            ]
          },
          "metadata": {
            "tags": []
          }
        }
      ]
    }
  ]
}