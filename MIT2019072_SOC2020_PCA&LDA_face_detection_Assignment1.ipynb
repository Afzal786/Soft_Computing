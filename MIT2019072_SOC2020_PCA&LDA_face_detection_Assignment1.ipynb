{
  "nbformat": 4,
  "nbformat_minor": 0,
  "metadata": {
    "colab": {
      "name": "MIT2019072_SOC2020_PCA&LDA_face_detection_Assignment1.ipynb",
      "provenance": [],
      "collapsed_sections": [],
      "machine_shape": "hm",
      "authorship_tag": "ABX9TyNoXHca3RNp6cx+4Fcn8M7t",
      "include_colab_link": true
    },
    "kernelspec": {
      "name": "python3",
      "display_name": "Python 3"
    }
  },
  "cells": [
    {
      "cell_type": "markdown",
      "metadata": {
        "id": "view-in-github",
        "colab_type": "text"
      },
      "source": [
        "<a href=\"https://colab.research.google.com/github/Afzal786/Soft_Computing/blob/master/MIT2019072_SOC2020_PCA%26LDA_face_detection_Assignment1.ipynb\" target=\"_parent\"><img src=\"https://colab.research.google.com/assets/colab-badge.svg\" alt=\"Open In Colab\"/></a>"
      ]
    },
    {
      "cell_type": "code",
      "metadata": {
        "id": "ipsA4FwJPJR1",
        "colab_type": "code",
        "colab": {}
      },
      "source": [
        "#python library to plot the images.\n",
        "from matplotlib import pyplot as plt\n",
        "\n",
        "#python library to read images \n",
        "from matplotlib.image import imread\n",
        "import numpy as np\n",
        "\n",
        "#python package to perform the basic linux command to read data from folder\n",
        "import os"
      ],
      "execution_count": 0,
      "outputs": []
    },
    {
      "cell_type": "code",
      "metadata": {
        "id": "UEJtRx25p_9N",
        "colab_type": "code",
        "outputId": "35392a94-e0ac-4764-ddce-158ae7c1761e",
        "colab": {
          "base_uri": "https://localhost:8080/",
          "height": 34
        }
      },
      "source": [
        "\n",
        "#changing directory to Images folder in order to read the images\n",
        "os.chdir('Images')\n",
        "\n",
        "#List is used to store the names of the images\n",
        "image_names = []\n",
        "\n",
        "#Reading the images present in the folder and fetches the names of the images\n",
        "for f in os.listdir(): \n",
        "    f_name, f_ext = os.path.splitext(f) \n",
        "    image_names.append(f)\n",
        "\n",
        "#Sorting the names of the images in the alphabetical order\n",
        "image_names = sorted(image_names)\n",
        "\n",
        "#checking the current working directory\n",
        "!pwd\n",
        "# changing the current working directory to content/"
      ],
      "execution_count": 2,
      "outputs": [
        {
          "output_type": "stream",
          "text": [
            "/content/Images\n"
          ],
          "name": "stdout"
        }
      ]
    },
    {
      "cell_type": "code",
      "metadata": {
        "id": "-hS_xQ7eh6S_",
        "colab_type": "code",
        "outputId": "3a0e64cd-bd9a-4853-82e3-1a71a14b4026",
        "colab": {
          "base_uri": "https://localhost:8080/",
          "height": 71
        }
      },
      "source": [
        "print(len(image_names))\n",
        "print(image_names)"
      ],
      "execution_count": 3,
      "outputs": [
        {
          "output_type": "stream",
          "text": [
            "165\n",
            "['subject01.abc', 'subject01.glasses', 'subject01.happy', 'subject01.leftlight', 'subject01.noglasses', 'subject01.normal', 'subject01.rightlight', 'subject01.sad', 'subject01.sleepy', 'subject01.surprised', 'subject01.wink', 'subject02.centerlight', 'subject02.glasses', 'subject02.happy', 'subject02.leftlight', 'subject02.noglasses', 'subject02.normal', 'subject02.rightlight', 'subject02.sad', 'subject02.sleepy', 'subject02.surprised', 'subject02.wink', 'subject03.centerlight', 'subject03.glasses', 'subject03.happy', 'subject03.leftlight', 'subject03.noglasses', 'subject03.normal', 'subject03.rightlight', 'subject03.sad', 'subject03.sleepy', 'subject03.surprised', 'subject03.wink', 'subject04.centerlight', 'subject04.glasses', 'subject04.happy', 'subject04.leftlight', 'subject04.noglasses', 'subject04.normal', 'subject04.rightlight', 'subject04.sad', 'subject04.sleepy', 'subject04.surprised', 'subject04.wink', 'subject05.centerlight', 'subject05.glasses', 'subject05.happy', 'subject05.leftlight', 'subject05.noglasses', 'subject05.normal', 'subject05.rightlight', 'subject05.sad', 'subject05.sleepy', 'subject05.surprised', 'subject05.wink', 'subject06.centerlight', 'subject06.glasses', 'subject06.happy', 'subject06.leftlight', 'subject06.noglasses', 'subject06.normal', 'subject06.rightlight', 'subject06.sad', 'subject06.sleepy', 'subject06.surprised', 'subject06.wink', 'subject07.centerlight', 'subject07.glasses', 'subject07.happy', 'subject07.leftlight', 'subject07.noglasses', 'subject07.normal', 'subject07.rightlight', 'subject07.sad', 'subject07.sleepy', 'subject07.surprised', 'subject07.wink', 'subject08.centerlight', 'subject08.glasses', 'subject08.happy', 'subject08.leftlight', 'subject08.noglasses', 'subject08.normal', 'subject08.rightlight', 'subject08.sad', 'subject08.sleepy', 'subject08.surprised', 'subject08.wink', 'subject09.centerlight', 'subject09.glasses', 'subject09.happy', 'subject09.leftlight', 'subject09.noglasses', 'subject09.normal', 'subject09.rightlight', 'subject09.sad', 'subject09.sleepy', 'subject09.surprised', 'subject09.wink', 'subject10.centerlight', 'subject10.glasses', 'subject10.happy', 'subject10.leftlight', 'subject10.noglasses', 'subject10.normal', 'subject10.rightlight', 'subject10.sad', 'subject10.sleepy', 'subject10.surprised', 'subject10.wink', 'subject11.centerlight', 'subject11.glasses', 'subject11.happy', 'subject11.leftlight', 'subject11.noglasses', 'subject11.normal', 'subject11.rightlight', 'subject11.sad', 'subject11.sleepy', 'subject11.surprised', 'subject11.wink', 'subject12.centerlight', 'subject12.glasses', 'subject12.happy', 'subject12.leftlight', 'subject12.noglasses', 'subject12.normal', 'subject12.rightlight', 'subject12.sad', 'subject12.sleepy', 'subject12.surprised', 'subject12.wink', 'subject13.centerlight', 'subject13.glasses', 'subject13.happy', 'subject13.leftlight', 'subject13.noglasses', 'subject13.normal', 'subject13.rightlight', 'subject13.sad', 'subject13.sleepy', 'subject13.surprised', 'subject13.wink', 'subject14.centerlight', 'subject14.glasses', 'subject14.happy', 'subject14.leftlight', 'subject14.noglasses', 'subject14.normal', 'subject14.rightlight', 'subject14.sad', 'subject14.sleepy', 'subject14.surprised', 'subject14.wink', 'subject15.centerlight', 'subject15.glasses', 'subject15.happy', 'subject15.leftlight', 'subject15.noglasses', 'subject15.normal', 'subject15.rightlight', 'subject15.sad', 'subject15.sleepy', 'subject15.surprised', 'subject15.wink']\n"
          ],
          "name": "stdout"
        }
      ]
    },
    {
      "cell_type": "code",
      "metadata": {
        "id": "L8vM7TURigNR",
        "colab_type": "code",
        "colab": {}
      },
      "source": [
        "#This is used when images names also fetch colab checkpoint as name.First print images names if\n",
        "#it contains python checkpoint as first element run this command to remove it\n",
        "#image_names = image_names[1:]"
      ],
      "execution_count": 0,
      "outputs": []
    },
    {
      "cell_type": "code",
      "metadata": {
        "id": "9-VpIuXT_uyb",
        "colab_type": "code",
        "colab": {}
      },
      "source": [
        "#change directory \n",
        "os.chdir('..')"
      ],
      "execution_count": 0,
      "outputs": []
    },
    {
      "cell_type": "code",
      "metadata": {
        "id": "fU5Jn2Ha_wD-",
        "colab_type": "code",
        "outputId": "2f767fbd-c15a-4aae-a835-b23d46ef75ea",
        "colab": {
          "base_uri": "https://localhost:8080/",
          "height": 286
        }
      },
      "source": [
        "\n",
        "#setting the path to the images\n",
        "dataset_path = 'Images/'\n",
        "\n",
        "#setting the directory name\n",
        "dataset_dir  = os.listdir(dataset_path)\n",
        "\n",
        "#Checking the images by plotting one of the random image\n",
        "img_array1 = plt.imread('Images/subject10.glasses') \n",
        "print(img_array1.shape)\n",
        "plt.imshow(img_array1, cmap='gray')\n",
        "plt.show()\n"
      ],
      "execution_count": 5,
      "outputs": [
        {
          "output_type": "stream",
          "text": [
            "(243, 320)\n"
          ],
          "name": "stdout"
        },
        {
          "output_type": "display_data",
          "data": {
            "image/png": "[encoded data removed]",
            "text/plain": [
              "<Figure size 432x288 with 1 Axes>"
            ]
          },
          "metadata": {
            "tags": []
          }
        }
      ]
    },
    {
      "cell_type": "code",
      "metadata": {
        "id": "MySdyxKeisfn",
        "colab_type": "code",
        "outputId": "70069ec9-1af5-490f-d9fd-2fbe86b376c4",
        "colab": {
          "base_uri": "https://localhost:8080/",
          "height": 105
        }
      },
      "source": [
        "\n",
        "#The height and weight of the image is fixed \n",
        "height  = 243\n",
        "width = 320\n",
        "\n",
        "#Total number of the images present in the directory\n",
        "len(image_names)\n",
        "#Splitting the dataset into 6:4 ratio.\n",
        "train_image_names = image_names[0:110]\n",
        "\n",
        "#Defining an array to store the training data.\n",
        "training_tensor   = np.ndarray(shape=(len(train_image_names), height*width), dtype=np.float64)\n",
        "\n",
        "#flattening the matrix into a single row. Each row corresponds to a single face\n",
        "for i in range(len(train_image_names)):\n",
        "    img = plt.imread(dataset_path + train_image_names[i])\n",
        "    training_tensor[i,:] = np.array(img, dtype='float64').flatten()\n",
        "   \n",
        "\n",
        "#40% of the input data goes as testing data\n",
        "test_image_names = image_names[110:165]\n",
        "\n",
        "#Defining the array for the testing data\n",
        "testing_tensor   = np.ndarray(shape=(len(test_image_names), height*width), dtype=np.float64)\n",
        "\n",
        "#flattening the matrix into a single row. Each row corresponds to a single face\n",
        "for i in range(len(test_image_names)):\n",
        "    img = imread(dataset_path + test_image_names[i])\n",
        "    testing_tensor[i,:] = np.array(img, dtype='float64').flatten()\n",
        "\n",
        "training_tensor = training_tensor.T\n",
        "testing_tensor = testing_tensor.T\n",
        "\n",
        "#printing the train and test image names\n",
        "print(train_image_names)\n",
        "print(test_image_names)   \n",
        "print(\"Training data shape : {} \".format(training_tensor.shape))\n",
        "print(\"Testing data shape : {} \".format(testing_tensor.shape))"
      ],
      "execution_count": 6,
      "outputs": [
        {
          "output_type": "stream",
          "text": [
            "['subject01.abc', 'subject01.glasses', 'subject01.happy', 'subject01.leftlight', 'subject01.noglasses', 'subject01.normal', 'subject01.rightlight', 'subject01.sad', 'subject01.sleepy', 'subject01.surprised', 'subject01.wink', 'subject02.centerlight', 'subject02.glasses', 'subject02.happy', 'subject02.leftlight', 'subject02.noglasses', 'subject02.normal', 'subject02.rightlight', 'subject02.sad', 'subject02.sleepy', 'subject02.surprised', 'subject02.wink', 'subject03.centerlight', 'subject03.glasses', 'subject03.happy', 'subject03.leftlight', 'subject03.noglasses', 'subject03.normal', 'subject03.rightlight', 'subject03.sad', 'subject03.sleepy', 'subject03.surprised', 'subject03.wink', 'subject04.centerlight', 'subject04.glasses', 'subject04.happy', 'subject04.leftlight', 'subject04.noglasses', 'subject04.normal', 'subject04.rightlight', 'subject04.sad', 'subject04.sleepy', 'subject04.surprised', 'subject04.wink', 'subject05.centerlight', 'subject05.glasses', 'subject05.happy', 'subject05.leftlight', 'subject05.noglasses', 'subject05.normal', 'subject05.rightlight', 'subject05.sad', 'subject05.sleepy', 'subject05.surprised', 'subject05.wink', 'subject06.centerlight', 'subject06.glasses', 'subject06.happy', 'subject06.leftlight', 'subject06.noglasses', 'subject06.normal', 'subject06.rightlight', 'subject06.sad', 'subject06.sleepy', 'subject06.surprised', 'subject06.wink', 'subject07.centerlight', 'subject07.glasses', 'subject07.happy', 'subject07.leftlight', 'subject07.noglasses', 'subject07.normal', 'subject07.rightlight', 'subject07.sad', 'subject07.sleepy', 'subject07.surprised', 'subject07.wink', 'subject08.centerlight', 'subject08.glasses', 'subject08.happy', 'subject08.leftlight', 'subject08.noglasses', 'subject08.normal', 'subject08.rightlight', 'subject08.sad', 'subject08.sleepy', 'subject08.surprised', 'subject08.wink', 'subject09.centerlight', 'subject09.glasses', 'subject09.happy', 'subject09.leftlight', 'subject09.noglasses', 'subject09.normal', 'subject09.rightlight', 'subject09.sad', 'subject09.sleepy', 'subject09.surprised', 'subject09.wink', 'subject10.centerlight', 'subject10.glasses', 'subject10.happy', 'subject10.leftlight', 'subject10.noglasses', 'subject10.normal', 'subject10.rightlight', 'subject10.sad', 'subject10.sleepy', 'subject10.surprised', 'subject10.wink']\n",
            "['subject11.centerlight', 'subject11.glasses', 'subject11.happy', 'subject11.leftlight', 'subject11.noglasses', 'subject11.normal', 'subject11.rightlight', 'subject11.sad', 'subject11.sleepy', 'subject11.surprised', 'subject11.wink', 'subject12.centerlight', 'subject12.glasses', 'subject12.happy', 'subject12.leftlight', 'subject12.noglasses', 'subject12.normal', 'subject12.rightlight', 'subject12.sad', 'subject12.sleepy', 'subject12.surprised', 'subject12.wink', 'subject13.centerlight', 'subject13.glasses', 'subject13.happy', 'subject13.leftlight', 'subject13.noglasses', 'subject13.normal', 'subject13.rightlight', 'subject13.sad', 'subject13.sleepy', 'subject13.surprised', 'subject13.wink', 'subject14.centerlight', 'subject14.glasses', 'subject14.happy', 'subject14.leftlight', 'subject14.noglasses', 'subject14.normal', 'subject14.rightlight', 'subject14.sad', 'subject14.sleepy', 'subject14.surprised', 'subject14.wink', 'subject15.centerlight', 'subject15.glasses', 'subject15.happy', 'subject15.leftlight', 'subject15.noglasses', 'subject15.normal', 'subject15.rightlight', 'subject15.sad', 'subject15.sleepy', 'subject15.surprised', 'subject15.wink']\n",
            "Training data shape : (77760, 110) \n",
            "Testing data shape : (77760, 55) \n"
          ],
          "name": "stdout"
        }
      ]
    },
    {
      "cell_type": "code",
      "metadata": {
        "id": "huCLqzpYjOC6",
        "colab_type": "code",
        "outputId": "68a0e31c-178e-4481-c88f-bc361afd22bb",
        "colab": {
          "base_uri": "https://localhost:8080/",
          "height": 34
        }
      },
      "source": [
        "\n",
        "mean_face = np.zeros((height*width,1))\n",
        "\n",
        "\n",
        "mean_face = np.mean(training_tensor,axis=1)\n",
        "\n",
        "print(mean_face.reshape(mean_face.shape[0],1).shape)"
      ],
      "execution_count": 7,
      "outputs": [
        {
          "output_type": "stream",
          "text": [
            "(77760, 1)\n"
          ],
          "name": "stdout"
        }
      ]
    },
    {
      "cell_type": "code",
      "metadata": {
        "id": "bsCZpnwhkYuc",
        "colab_type": "code",
        "outputId": "e11aaac2-989f-4b84-abf2-25cc4ccd5949",
        "colab": {
          "base_uri": "https://localhost:8080/",
          "height": 34
        }
      },
      "source": [
        "\n",
        "\n",
        "normalised_training_tensor = np.ndarray(shape=( height*width,len(train_image_names)))\n",
        "\n",
        "#subtracting the data points from their mean value in order to find the normalized vector\n",
        "for i in range(height*width):\n",
        "    normalised_training_tensor[i] = np.subtract(training_tensor[i],mean_face[i])\n",
        "normalised_training_tensor.shape"
      ],
      "execution_count": 8,
      "outputs": [
        {
          "output_type": "execute_result",
          "data": {
            "text/plain": [
              "(77760, 110)"
            ]
          },
          "metadata": {
            "tags": []
          },
          "execution_count": 8
        }
      ]
    },
    {
      "cell_type": "code",
      "metadata": {
        "id": "cC42UH1kmGmb",
        "colab_type": "code",
        "outputId": "7857ff82-09c4-4b74-ca4e-9a83e0903710",
        "colab": {
          "base_uri": "https://localhost:8080/",
          "height": 255
        }
      },
      "source": [
        "#Calculating the co-variance matrix\n",
        "cov_matrix = np.dot(normalised_training_tensor.T, normalised_training_tensor)\n",
        "print(cov_matrix.shape)\n",
        "print(cov_matrix)"
      ],
      "execution_count": 9,
      "outputs": [
        {
          "output_type": "stream",
          "text": [
            "(110, 110)\n",
            "[[ 2.04208905e+08  7.49858043e+07  7.54067202e+07 ... -1.75646679e+07\n",
            "  -1.03208987e+07 -2.00572063e+07]\n",
            " [ 7.49858043e+07  1.53093477e+08  1.32388824e+08 ...  7.69992171e+06\n",
            "   8.21899894e+06 -1.25775266e+06]\n",
            " [ 7.54067202e+07  1.32388824e+08  1.51519376e+08 ...  1.19156596e+07\n",
            "   1.74051939e+07  5.12892825e+06]\n",
            " ...\n",
            " [-1.75646679e+07  7.69992171e+06  1.19156596e+07 ...  1.96492113e+08\n",
            "   1.60484893e+08  1.77617884e+08]\n",
            " [-1.03208987e+07  8.21899894e+06  1.74051939e+07 ...  1.60484893e+08\n",
            "   1.99085124e+08  1.47377897e+08]\n",
            " [-2.00572063e+07 -1.25775266e+06  5.12892825e+06 ...  1.77617884e+08\n",
            "   1.47377897e+08  1.89509252e+08]]\n"
          ],
          "name": "stdout"
        }
      ]
    },
    {
      "cell_type": "code",
      "metadata": {
        "id": "aOwfB8XvmLc0",
        "colab_type": "code",
        "outputId": "349f582a-d7b8-4aff-a94d-8ea7c487cc18",
        "colab": {
          "base_uri": "https://localhost:8080/",
          "height": 1000
        }
      },
      "source": [
        "\n",
        "eigenvalues, eigenvectors = np.linalg.eig(cov_matrix)\n",
        "\n",
        "# sort eigenvectors by the value of eigenvalues\n",
        "print(\"eigenvalues shape : \", eigenvalues.shape)\n",
        "print(\"eigenvalues : \", eigenvalues)\n",
        "print(\"eigenvectors shape : \", eigenvectors.shape)\n",
        "print(\"eigenvectors : \", eigenvectors)\n"
      ],
      "execution_count": 10,
      "outputs": [
        {
          "output_type": "stream",
          "text": [
            "eigenvalues shape :  (110,)\n",
            "eigenvalues :  [ 1.19477767e+10+0.00000000e+00j  6.18174620e+09+0.00000000e+00j\n",
            "  3.80713869e+09+0.00000000e+00j  3.02565612e+09+0.00000000e+00j\n",
            "  1.33446779e+09+0.00000000e+00j  1.14174088e+09+0.00000000e+00j\n",
            "  1.05222090e+09+0.00000000e+00j  9.19162782e+08+0.00000000e+00j\n",
            "  6.90943264e+08+0.00000000e+00j  5.92190937e+08+0.00000000e+00j\n",
            "  4.55397499e+08+0.00000000e+00j  3.70753902e+08+0.00000000e+00j\n",
            "  3.48016928e+08+0.00000000e+00j  2.96131961e+08+0.00000000e+00j\n",
            "  2.54418415e+08+0.00000000e+00j  2.34268303e+08+0.00000000e+00j\n",
            "  2.00634734e+08+0.00000000e+00j  1.91858449e+08+0.00000000e+00j\n",
            "  1.72203276e+08+0.00000000e+00j  1.61941663e+08+0.00000000e+00j\n",
            "  1.50476441e+08+0.00000000e+00j  1.41569400e+08+0.00000000e+00j\n",
            "  1.31154163e+08+0.00000000e+00j  1.24646941e+08+0.00000000e+00j\n",
            "  1.13889670e+08+0.00000000e+00j  1.03650757e+08+0.00000000e+00j\n",
            "  9.85984384e+07+0.00000000e+00j  9.51261666e+07+0.00000000e+00j\n",
            "  8.87998152e+07+0.00000000e+00j  8.48818164e+07+0.00000000e+00j\n",
            "  8.14972948e+07+0.00000000e+00j  7.79961984e+07+0.00000000e+00j\n",
            "  7.40230754e+07+0.00000000e+00j  7.12082765e+07+0.00000000e+00j\n",
            "  6.94574412e+07+0.00000000e+00j  6.99507168e+07+0.00000000e+00j\n",
            "  6.46572415e+07+0.00000000e+00j  6.39581830e+07+0.00000000e+00j\n",
            "  6.19414710e+07+0.00000000e+00j  5.86482930e+07+0.00000000e+00j\n",
            "  5.74606721e+07+0.00000000e+00j  5.68455109e+07+0.00000000e+00j\n",
            "  5.44322644e+07+0.00000000e+00j  5.32118996e+07+0.00000000e+00j\n",
            "  5.04767502e+07+0.00000000e+00j  4.84570198e+07+0.00000000e+00j\n",
            "  4.54327854e+07+0.00000000e+00j  4.65791492e+07+0.00000000e+00j\n",
            "  4.70717794e+07+0.00000000e+00j  4.26692990e+07+0.00000000e+00j\n",
            "  4.15709418e+07+0.00000000e+00j  4.00017729e+07+0.00000000e+00j\n",
            "  3.92591041e+07+0.00000000e+00j  3.76323095e+07+0.00000000e+00j\n",
            "  3.65258865e+07+0.00000000e+00j  3.49858397e+07+0.00000000e+00j\n",
            "  3.40500725e+07+0.00000000e+00j  3.34318596e+07+0.00000000e+00j\n",
            "  3.28273440e+07+0.00000000e+00j  3.12170721e+07+0.00000000e+00j\n",
            "  3.06398889e+07+0.00000000e+00j  2.93628741e+07+0.00000000e+00j\n",
            "  2.87240548e+07+0.00000000e+00j  2.77639358e+07+0.00000000e+00j\n",
            "  1.33895350e+06+0.00000000e+00j  1.59998692e+06+0.00000000e+00j\n",
            "  3.07409394e+06+0.00000000e+00j  3.40248306e+06+0.00000000e+00j\n",
            "  2.79248795e+07+0.00000000e+00j  2.61912656e+07+0.00000000e+00j\n",
            "  2.60234863e+07+0.00000000e+00j  5.01508021e+06+0.00000000e+00j\n",
            "  2.40206555e+07+0.00000000e+00j  2.34501820e+07+0.00000000e+00j\n",
            "  5.72597239e+06+0.00000000e+00j  5.93632718e+06+0.00000000e+00j\n",
            "  7.15475468e+06+0.00000000e+00j  7.70206772e+06+0.00000000e+00j\n",
            "  2.28503016e+07+0.00000000e+00j  2.16434586e+07+0.00000000e+00j\n",
            "  2.07024020e+07+0.00000000e+00j  8.95577258e+06+0.00000000e+00j\n",
            "  9.63445015e+06+0.00000000e+00j  9.88044024e+06+0.00000000e+00j\n",
            "  1.28110230e+07+0.00000000e+00j  2.02803674e+07+0.00000000e+00j\n",
            "  1.04312653e+07+0.00000000e+00j  1.37375772e+07+0.00000000e+00j\n",
            "  1.23173698e+07+0.00000000e+00j  1.43058578e+07+0.00000000e+00j\n",
            "  1.71061752e+07+0.00000000e+00j  1.77244236e+07+0.00000000e+00j\n",
            "  1.09821611e+07+0.00000000e+00j  1.48045966e+07+0.00000000e+00j\n",
            "  1.87210629e+07+0.00000000e+00j  1.15102132e+07+0.00000000e+00j\n",
            "  1.11849525e+07+0.00000000e+00j  1.92569894e+07+0.00000000e+00j\n",
            "  1.59387084e+07+0.00000000e+00j  1.80785287e+07+0.00000000e+00j\n",
            "  1.54900367e+07+0.00000000e+00j  1.95413396e+07+0.00000000e+00j\n",
            "  1.68519733e-08+1.18627648e-08j  1.68519733e-08-1.18627648e-08j\n",
            " -3.95484500e-09+3.94169112e-09j -3.95484500e-09-3.94169112e-09j\n",
            "  7.59144250e-09+0.00000000e+00j  4.55262755e-09+0.00000000e+00j\n",
            "  1.12981834e-09+9.67904431e-10j  1.12981834e-09-9.67904431e-10j]\n",
            "eigenvectors shape :  (110, 110)\n",
            "eigenvectors :  [[ 0.07232753+0.j          0.02257548+0.j         -0.04286781+0.j\n",
            "  ... -0.02085377+0.j          0.01080886-0.00226488j\n",
            "   0.01080886+0.00226488j]\n",
            " [ 0.036379  +0.j         -0.03516777+0.j         -0.08616824+0.j\n",
            "  ... -0.02085377+0.j          0.01080886-0.00226488j\n",
            "   0.01080886+0.00226488j]\n",
            " [ 0.03444807+0.j         -0.03629643+0.j         -0.07581425+0.j\n",
            "  ... -0.02085377+0.j          0.01080886-0.00226488j\n",
            "   0.01080886+0.00226488j]\n",
            " ...\n",
            " [ 0.00527387+0.j         -0.08154884+0.j          0.08597385+0.j\n",
            "  ... -0.02085377+0.j          0.01080886-0.00226488j\n",
            "   0.01080886+0.00226488j]\n",
            " [ 0.00695247+0.j         -0.07243017+0.j          0.07530022+0.j\n",
            "  ... -0.02085377+0.j          0.01080886-0.00226488j\n",
            "   0.01080886+0.00226488j]\n",
            " [ 0.00428708+0.j         -0.08023054+0.j          0.09223611+0.j\n",
            "  ... -0.02085377+0.j          0.01080886-0.00226488j\n",
            "   0.01080886+0.00226488j]]\n"
          ],
          "name": "stdout"
        }
      ]
    },
    {
      "cell_type": "code",
      "metadata": {
        "id": "wzbsTwhZm3Po",
        "colab_type": "code",
        "outputId": "fd82c7f0-47b8-47e1-8022-bc9619de01ce",
        "colab": {
          "base_uri": "https://localhost:8080/",
          "height": 357
        }
      },
      "source": [
        "\n",
        "#Calculating the eigen faces\n",
        "U = []\n",
        "size = cov_matrix.shape[0]\n",
        "for i in range(size):\n",
        "    U.append(np.dot(normalised_training_tensor,eigenvectors[:,i]))\n",
        "\n",
        "U = np.array(U)\n",
        "U = U.T\n",
        "print(U.shape)\n",
        "print(U)\n"
      ],
      "execution_count": 11,
      "outputs": [
        {
          "output_type": "stream",
          "text": [
            "(77760, 110)\n",
            "[[ 6.07475772e+01+0.00000000e+00j -9.33806455e+01+0.00000000e+00j\n",
            "  -5.80792954e+00+0.00000000e+00j ... -3.80806497e-14+0.00000000e+00j\n",
            "   2.42028619e-14-7.27889971e-15j  2.42028619e-14+7.27889971e-15j]\n",
            " [ 9.43906067e+01+0.00000000e+00j -1.07673477e+02+0.00000000e+00j\n",
            "  -6.23414142e+00+0.00000000e+00j ... -5.57331958e-14+0.00000000e+00j\n",
            "   3.56381591e-14-1.03181352e-14j  3.56381591e-14+1.03181352e-14j]\n",
            " [ 1.14649074e+02+0.00000000e+00j -1.04791693e+02+0.00000000e+00j\n",
            "  -8.85915789e+00+0.00000000e+00j ... -3.81916720e-14+0.00000000e+00j\n",
            "   1.97064587e-14-5.88418203e-15j  1.97064587e-14+5.88418203e-15j]\n",
            " ...\n",
            " [ 0.00000000e+00+0.00000000e+00j  0.00000000e+00+0.00000000e+00j\n",
            "   0.00000000e+00+0.00000000e+00j ...  0.00000000e+00+0.00000000e+00j\n",
            "   0.00000000e+00+0.00000000e+00j  0.00000000e+00+0.00000000e+00j]\n",
            " [ 0.00000000e+00+0.00000000e+00j  0.00000000e+00+0.00000000e+00j\n",
            "   0.00000000e+00+0.00000000e+00j ...  0.00000000e+00+0.00000000e+00j\n",
            "   0.00000000e+00+0.00000000e+00j  0.00000000e+00+0.00000000e+00j]\n",
            " [ 0.00000000e+00+0.00000000e+00j  0.00000000e+00+0.00000000e+00j\n",
            "   0.00000000e+00+0.00000000e+00j ...  0.00000000e+00+0.00000000e+00j\n",
            "   0.00000000e+00+0.00000000e+00j  0.00000000e+00+0.00000000e+00j]]\n"
          ],
          "name": "stdout"
        }
      ]
    },
    {
      "cell_type": "code",
      "metadata": {
        "id": "sb8_CCuDm69u",
        "colab_type": "code",
        "outputId": "d880a8fd-88e9-4b4d-b690-8ba29b40bc29",
        "colab": {
          "base_uri": "https://localhost:8080/",
          "height": 357
        }
      },
      "source": [
        "#calculating the Sign faces\n",
        "weight_vector = np.dot(U.T, normalised_training_tensor)\n",
        "print(weight_vector.shape)\n",
        "print(weight_vector)\n"
      ],
      "execution_count": 12,
      "outputs": [
        {
          "output_type": "stream",
          "text": [
            "(110, 110)\n",
            "[[ 8.64153189e+08+0.00000000e+00j  4.34648207e+08+0.00000000e+00j\n",
            "   4.11577820e+08+0.00000000e+00j ...  6.30110453e+07+0.00000000e+00j\n",
            "   8.30665828e+07+0.00000000e+00j  5.12210323e+07+0.00000000e+00j]\n",
            " [ 1.39555874e+08+0.00000000e+00j -2.17398211e+08+0.00000000e+00j\n",
            "  -2.24375302e+08+0.00000000e+00j ... -5.04114220e+08+0.00000000e+00j\n",
            "  -4.47744925e+08+0.00000000e+00j -4.95964857e+08+0.00000000e+00j]\n",
            " [-1.63203697e+08+0.00000000e+00j -3.28054421e+08+0.00000000e+00j\n",
            "  -2.88635379e+08+0.00000000e+00j ...  3.27314381e+08+0.00000000e+00j\n",
            "   2.86678364e+08+0.00000000e+00j  3.51155674e+08+0.00000000e+00j]\n",
            " ...\n",
            " [-3.68645036e-08+0.00000000e+00j -4.89408895e-08+0.00000000e+00j\n",
            "  -1.91525312e-08+0.00000000e+00j ... -1.02067008e-08+0.00000000e+00j\n",
            "  -1.16722983e-08+0.00000000e+00j -5.25965341e-10+0.00000000e+00j]\n",
            " [ 3.13155360e-08-1.21192145e-08j  2.27217074e-08-3.99899328e-09j\n",
            "   7.28724515e-09+3.51189392e-10j ... -3.08413408e-09+2.31122466e-09j\n",
            "   2.75017168e-09+3.60302801e-10j -4.35085455e-09+2.13662989e-09j]\n",
            " [ 3.13155360e-08+1.21192145e-08j  2.27217074e-08+3.99899328e-09j\n",
            "   7.28724515e-09-3.51189392e-10j ... -3.08413408e-09-2.31122466e-09j\n",
            "   2.75017168e-09-3.60302801e-10j -4.35085455e-09-2.13662989e-09j]]\n"
          ],
          "name": "stdout"
        }
      ]
    },
    {
      "cell_type": "code",
      "metadata": {
        "id": "nJRq9XqBnB2K",
        "colab_type": "code",
        "outputId": "4bf01bbd-7f23-4db0-8893-a4f9799a30de",
        "colab": {
          "base_uri": "https://localhost:8080/",
          "height": 34
        }
      },
      "source": [
        "#Calculating the overall mean of the sign faces\n",
        "overall_mean = np.mean(weight_vector, axis = 1)\n",
        "overall_mean = overall_mean.reshape(overall_mean.shape[0],1)\n",
        "print(overall_mean.shape)"
      ],
      "execution_count": 13,
      "outputs": [
        {
          "output_type": "stream",
          "text": [
            "(110, 1)\n"
          ],
          "name": "stdout"
        }
      ]
    },
    {
      "cell_type": "code",
      "metadata": {
        "id": "hDe7Mf19neUt",
        "colab_type": "code",
        "colab": {}
      },
      "source": [
        "#calculating the scatter within matrix of the classes\n",
        "#It consist of 10 classes and each class consist of 11 images\n",
        "SW = np.zeros([110,110])\n",
        "for i in range(10):\n",
        "    ind = i * 11\n",
        "    V = weight_vector[:,ind:ind+6]\n",
        "    mean_local = np.mean(V, axis = 1)\n",
        "    mean_local = mean_local.reshape(mean_local.shape[0],1)\n",
        "    mean = np.repeat(mean_local, 6,axis = 1)\n",
        "    diff = V - mean\n",
        "    variance = np.dot(diff, diff.T)\n",
        "    SW = SW + variance\n"
      ],
      "execution_count": 0,
      "outputs": []
    },
    {
      "cell_type": "code",
      "metadata": {
        "id": "M6Jlja3Ung-9",
        "colab_type": "code",
        "outputId": "5a3ded60-fd87-4912-cafd-011672bdbbee",
        "colab": {
          "base_uri": "https://localhost:8080/",
          "height": 34
        }
      },
      "source": [
        "#calculating the scatter between matrix of the classes\n",
        "SB = np.zeros([110,110])\n",
        "print(variance.shape)\n",
        "for i in range(10):\n",
        "    j = i+11\n",
        "    V = weight_vector[:,i:j]\n",
        "    mean_local = np.mean(V, axis = 1)\n",
        "    mean_local = mean_local.reshape(mean_local.shape[0],1)\n",
        "    diff = mean_local - overall_mean\n",
        "    sigma = np.dot(diff, mean_local.T)\n",
        "    SB = SB  + sigma"
      ],
      "execution_count": 15,
      "outputs": [
        {
          "output_type": "stream",
          "text": [
            "(110, 110)\n"
          ],
          "name": "stdout"
        }
      ]
    },
    {
      "cell_type": "code",
      "metadata": {
        "id": "jvAAuSrEn9IA",
        "colab_type": "code",
        "outputId": "ebb6c0ff-346c-4b93-edb3-17d260d104c8",
        "colab": {
          "base_uri": "https://localhost:8080/",
          "height": 34
        }
      },
      "source": [
        "#calculating the J matrix\n",
        "J = np.dot(np.linalg.pinv(SW), SB)\n",
        "print(J.shape)\n"
      ],
      "execution_count": 16,
      "outputs": [
        {
          "output_type": "stream",
          "text": [
            "(110, 110)\n"
          ],
          "name": "stdout"
        }
      ]
    },
    {
      "cell_type": "code",
      "metadata": {
        "id": "yu44rnpDn_Kd",
        "colab_type": "code",
        "outputId": "a436fc1b-c24c-4bbc-8109-240a11481fed",
        "colab": {
          "base_uri": "https://localhost:8080/",
          "height": 34
        }
      },
      "source": [
        "\n",
        "#finding eigenvalues and eigenvectors of the matrix J\n",
        "eigenval, eigenvec = np.linalg.eig(J)\n",
        "fisher_faces = np.dot(eigenvec.T, weight_vector)\n",
        "print(fisher_faces.shape)"
      ],
      "execution_count": 17,
      "outputs": [
        {
          "output_type": "stream",
          "text": [
            "(110, 110)\n"
          ],
          "name": "stdout"
        }
      ]
    },
    {
      "cell_type": "code",
      "metadata": {
        "id": "QOsjiuVyoF5G",
        "colab_type": "code",
        "outputId": "b36feb5a-90de-4759-8a01-eef72c99417a",
        "colab": {
          "base_uri": "https://localhost:8080/",
          "height": 357
        }
      },
      "source": [
        "#tesing of the model is done using rest of the 5 classes of the data-set out of 15 classes present\n",
        "\n",
        "weight_vector_test = np.dot(U.T, testing_tensor)\n",
        "print(weight_vector_test.shape)\n",
        "print(weight_vector_test)"
      ],
      "execution_count": 18,
      "outputs": [
        {
          "output_type": "stream",
          "text": [
            "(110, 55)\n",
            "[[ 1.69540410e+09+0.00000000e+00j  1.74339489e+09+0.00000000e+00j\n",
            "   1.85258620e+09+0.00000000e+00j ...  8.39489220e+08+0.00000000e+00j\n",
            "   8.73593470e+08+0.00000000e+00j  1.51243950e+09+0.00000000e+00j]\n",
            " [-2.69966637e+09+0.00000000e+00j -2.82046025e+09+0.00000000e+00j\n",
            "  -2.69319234e+09+0.00000000e+00j ... -3.48689838e+09+0.00000000e+00j\n",
            "  -3.46648236e+09+0.00000000e+00j -3.39083150e+09+0.00000000e+00j]\n",
            " [-1.52150451e+09+0.00000000e+00j -1.62529185e+09+0.00000000e+00j\n",
            "  -1.66274831e+09+0.00000000e+00j ... -1.61816333e+09+0.00000000e+00j\n",
            "  -1.55292976e+09+0.00000000e+00j -1.67927974e+09+0.00000000e+00j]\n",
            " ...\n",
            " [-1.92736160e-07+0.00000000e+00j -1.87986732e-07+0.00000000e+00j\n",
            "  -1.91748849e-07+0.00000000e+00j ... -1.81696055e-07+0.00000000e+00j\n",
            "  -1.73241674e-07+0.00000000e+00j -2.11452747e-07+0.00000000e+00j]\n",
            " [ 5.15008330e-08-3.63307496e-08j  4.87671555e-08-3.32952129e-08j\n",
            "   5.01708880e-08-3.63906167e-08j ...  4.57440997e-09-2.28613351e-08j\n",
            "   3.81985587e-09-2.20231931e-08j  3.17242496e-08-3.17802826e-08j]\n",
            " [ 5.15008330e-08+3.63307496e-08j  4.87671555e-08+3.32952129e-08j\n",
            "   5.01708880e-08+3.63906167e-08j ...  4.57440997e-09+2.28613351e-08j\n",
            "   3.81985587e-09+2.20231931e-08j  3.17242496e-08+3.17802826e-08j]]\n"
          ],
          "name": "stdout"
        }
      ]
    },
    {
      "cell_type": "code",
      "metadata": {
        "id": "6oHfWgx9oVSv",
        "colab_type": "code",
        "outputId": "d800ae7c-0c06-467e-93a9-4c6df2badc62",
        "colab": {
          "base_uri": "https://localhost:8080/",
          "height": 34
        }
      },
      "source": [
        "#Calculating the fisher faces\n",
        "projected_fisher_faces = np.dot(eigenvec.T, weight_vector_test)\n",
        "print(projected_fisher_faces.shape)"
      ],
      "execution_count": 19,
      "outputs": [
        {
          "output_type": "stream",
          "text": [
            "(110, 55)\n"
          ],
          "name": "stdout"
        }
      ]
    },
    {
      "cell_type": "code",
      "metadata": {
        "id": "zzoPA5D6oc1e",
        "colab_type": "code",
        "outputId": "24d1df30-ccaf-40e7-e870-23c01bd5d071",
        "colab": {
          "base_uri": "https://localhost:8080/",
          "height": 952
        }
      },
      "source": [
        "#testing the face recognition of the test images on the model\n",
        "\n",
        "validation = []\n",
        "count = 0\n",
        "for i in range(55) : \n",
        "    ith_wv = projected_fisher_faces[:,i]\n",
        "    ans = 0\n",
        "    index = 0\n",
        "    for j in range(55):\n",
        "        jth_wv = projected_fisher_faces[:,j]\n",
        "        diff = ith_wv - jth_wv\n",
        "        diff = np.absolute(diff)\n",
        "        sm = np.sum(diff)\n",
        "        if ans == 0 :\n",
        "            ans = sm\n",
        "            index = j\n",
        "        else :\n",
        "            if sm < ans:\n",
        "                ans = sm\n",
        "                index = j\n",
        "    print(test_image_names[index])\n",
        "    if test_image_names[index].split('.')[0] == test_image_names[i].split('.')[0]:\n",
        "        count = count + 1\n",
        "        validation.append(1)\n",
        "    else:\n",
        "        validation.append(0)"
      ],
      "execution_count": 20,
      "outputs": [
        {
          "output_type": "stream",
          "text": [
            "subject11.glasses\n",
            "subject11.sleepy\n",
            "subject11.normal\n",
            "subject11.sleepy\n",
            "subject11.sleepy\n",
            "subject11.surprised\n",
            "subject11.surprised\n",
            "subject13.wink\n",
            "subject11.wink\n",
            "subject12.centerlight\n",
            "subject12.surprised\n",
            "subject12.glasses\n",
            "subject12.rightlight\n",
            "subject12.surprised\n",
            "subject12.sleepy\n",
            "subject13.wink\n",
            "subject13.wink\n",
            "subject12.surprised\n",
            "subject12.sleepy\n",
            "subject12.wink\n",
            "subject12.wink\n",
            "subject13.happy\n",
            "subject13.leftlight\n",
            "subject13.sad\n",
            "subject13.sad\n",
            "subject13.sleepy\n",
            "subject13.wink\n",
            "subject13.wink\n",
            "subject15.rightlight\n",
            "subject13.sleepy\n",
            "subject13.surprised\n",
            "subject13.wink\n",
            "subject15.centerlight\n",
            "subject14.glasses\n",
            "subject14.sad\n",
            "subject14.wink\n",
            "subject14.wink\n",
            "subject14.wink\n",
            "subject14.wink\n",
            "subject15.rightlight\n",
            "subject14.wink\n",
            "subject14.wink\n",
            "subject14.wink\n",
            "subject15.leftlight\n",
            "subject15.wink\n",
            "subject15.surprised\n",
            "subject15.sad\n",
            "subject15.surprised\n",
            "subject15.sleepy\n",
            "subject15.sleepy\n",
            "subject15.wink\n",
            "subject15.wink\n",
            "subject15.surprised\n",
            "subject15.wink\n",
            "subject15.wink\n"
          ],
          "name": "stdout"
        }
      ]
    },
    {
      "cell_type": "code",
      "metadata": {
        "id": "19F4XdPDpJkY",
        "colab_type": "code",
        "outputId": "1394de80-db06-4d0e-cd21-11d383ebdd2c",
        "colab": {
          "base_uri": "https://localhost:8080/",
          "height": 34
        }
      },
      "source": [
        "#Accuracy obtained is given by number of correct recognition\n",
        "print(\"accuracy = \", (count*100)/55, \"%\")"
      ],
      "execution_count": 21,
      "outputs": [
        {
          "output_type": "stream",
          "text": [
            "accuracy =  81.81818181818181 %\n"
          ],
          "name": "stdout"
        }
      ]
    },
    {
      "cell_type": "code",
      "metadata": {
        "id": "AKXv2KCSpWve",
        "colab_type": "code",
        "outputId": "27bfd8cc-e8be-4e13-b9fb-fe397ba1bc34",
        "colab": {
          "base_uri": "https://localhost:8080/",
          "height": 54
        }
      },
      "source": [
        "#It shows where the image recognised is correct out of 55 test images\n",
        "print(validation)"
      ],
      "execution_count": 22,
      "outputs": [
        {
          "output_type": "stream",
          "text": [
            "[1, 1, 1, 1, 1, 1, 1, 0, 1, 0, 0, 1, 1, 1, 1, 0, 0, 1, 1, 1, 1, 0, 1, 1, 1, 1, 1, 1, 0, 1, 1, 1, 0, 1, 1, 1, 1, 1, 1, 0, 1, 1, 1, 0, 1, 1, 1, 1, 1, 1, 1, 1, 1, 1, 1]\n"
          ],
          "name": "stdout"
        }
      ]
    }
  ]
}